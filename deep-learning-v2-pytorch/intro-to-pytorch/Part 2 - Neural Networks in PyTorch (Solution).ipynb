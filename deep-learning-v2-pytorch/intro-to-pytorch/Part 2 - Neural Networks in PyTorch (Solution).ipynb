{
 "cells": [
  {
   "cell_type": "markdown",
   "metadata": {},
   "source": [
    "# Neural networks with PyTorch\n",
    "\n",
    "Deep learning networks tend to be massive with dozens or hundreds of layers, that's where the term \"deep\" comes from. You can build one of these deep networks using only weight matrices as we did in the previous notebook, but in general it's very cumbersome and difficult to implement. PyTorch has a nice module `nn` that provides a nice way to efficiently build large neural networks."
   ]
  },
  {
   "cell_type": "code",
   "execution_count": 1,
   "metadata": {},
   "outputs": [],
   "source": [
    "# Import necessary packages  \n",
    "%matplotlib inline\n",
    "%config InlineBackend.figure_format = 'retina'\n",
    "\n",
    "import numpy as np\n",
    "import torch\n",
    "\n",
    "import helper\n",
    "\n",
    "import matplotlib.pyplot as plt"
   ]
  },
  {
   "cell_type": "markdown",
   "metadata": {},
   "source": [
    "\n",
    "Now we're going to build a larger network that can solve a (formerly) difficult problem, identifying text in an image. Here we'll use the MNIST dataset which consists of greyscale handwritten digits. Each image is 28x28 pixels, you can see a sample below\n",
    "\n",
    "<img src='assets/mnist.png'>\n",
    "\n",
    "Our goal is to build a neural network that can take one of these images and predict the digit in the image.\n",
    "\n",
    "First up, we need to get our dataset. This is provided through the `torchvision` package. The code below will download the MNIST dataset, then create training and test datasets for us. Don't worry too much about the details here, you'll learn more about this later."
   ]
  },
  {
   "cell_type": "code",
   "execution_count": 2,
   "metadata": {},
   "outputs": [],
   "source": [
    "### Run this cell\n",
    "\n",
    "from torchvision import datasets, transforms\n",
    "\n",
    "# Define a transform to normalize the data\n",
    "transform = transforms.Compose([transforms.ToTensor(),\n",
    "                              transforms.Normalize((0.5,), (0.5,)),\n",
    "                              ])\n",
    "# Download and load the training data\n",
    "trainset = datasets.MNIST('~/.pytorch/MNIST_data/', download=True, train=True, transform=transform)\n",
    "trainloader = torch.utils.data.DataLoader(trainset, batch_size=64, shuffle=True)"
   ]
  },
  {
   "cell_type": "markdown",
   "metadata": {},
   "source": [
    "We have the training data loaded into `trainloader` and we make that an iterator with `iter(trainloader)`. Later, we'll use this to loop through the dataset for training, like\n",
    "\n",
    "```python\n",
    "for image, label in trainloader:\n",
    "    ## do things with images and labels\n",
    "```\n",
    "\n",
    "You'll notice I created the `trainloader` with a batch size of 64, and `shuffle=True`. The batch size is the number of images we get in one iteration from the data loader and pass through our network, often called a *batch*. And `shuffle=True` tells it to shuffle the dataset every time we start going through the data loader again. But here I'm just grabbing the first batch so we can check out the data. We can see below that `images` is just a tensor with size `(64, 1, 28, 28)`. So, 64 images per batch, 1 color channel, and 28x28 images."
   ]
  },
  {
   "cell_type": "code",
   "execution_count": 3,
   "metadata": {},
   "outputs": [
    {
     "name": "stdout",
     "output_type": "stream",
     "text": [
      "<class 'torch.Tensor'>\n",
      "torch.Size([64, 1, 28, 28])\n",
      "torch.Size([64])\n"
     ]
    }
   ],
   "source": [
    "dataiter = iter(trainloader)\n",
    "images, labels = dataiter.next()\n",
    "print(type(images))\n",
    "print(images.shape)\n",
    "print(labels.shape)"
   ]
  },
  {
   "cell_type": "markdown",
   "metadata": {},
   "source": [
    "This is what one of the images looks like. "
   ]
  },
  {
   "cell_type": "code",
   "execution_count": 4,
   "metadata": {},
   "outputs": [
    {
     "data": {
      "image/png": "[encoded data removed]",
      "text/plain": [
       "<Figure size 432x288 with 1 Axes>"
      ]
     },
     "metadata": {
      "image/png": {
       "height": 248,
       "width": 251
      },
      "needs_background": "light"
     },
     "output_type": "display_data"
    }
   ],
   "source": [
    "plt.imshow(images[1].numpy().squeeze(), cmap='Greys_r');"
   ]
  },
  {
   "cell_type": "markdown",
   "metadata": {},
   "source": [
    "First, let's try to build a simple network for this dataset using weight matrices and matrix multiplications. Then, we'll see how to do it using PyTorch's `nn` module which provides a much more convenient and powerful method for defining network architectures.\n",
    "\n",
    "The networks you've seen so far are called *fully-connected* or *dense* networks. Each unit in one layer is connected to each unit in the next layer. In fully-connected networks, the input to each layer must be a one-dimensional vector (which can be stacked into a 2D tensor as a batch of multiple examples). However, our images are 28x28 2D tensors, so we need to convert them into 1D vectors. Thinking about sizes, we need to convert the batch of images with shape `(64, 1, 28, 28)` to a have a shape of `(64, 784)`, 784 is 28 times 28. This is typically called *flattening*, we flattened the 2D images into 1D vectors.\n",
    "\n",
    "Previously you built a network with one output unit. Here we need 10 output units, one for each digit. We want our network to predict the digit shown in an image, so what we'll do is calculate probabilities that the image is of any one digit or class. This ends up being a discrete probability distribution over the classes (digits) that tells us the most likely class for the image. That means we need 10 output units for the 10 classes (digits). We'll see how to convert the network output into a probability distribution next.\n",
    "\n",
    "> **Exercise:** Flatten the batch of images `images`. Then build a multi-layer network with 784 input units, 256 hidden units, and 10 output units using random tensors for the weights and biases. For now, use a sigmoid activation for the hidden layer. Leave the output layer without an activation, we'll add one that gives us a probability distribution next."
   ]
  },
  {
   "cell_type": "code",
   "execution_count": 5,
   "metadata": {},
   "outputs": [
    {
     "data": {
      "text/plain": [
       "tensor([[ 9.5594e+00,  1.0271e+01,  1.0307e+01,  8.6269e+00, -1.3532e+01,\n",
       "         -2.8801e+00,  1.7824e+01, -8.1640e+00, -7.7459e+00, -3.5402e+00],\n",
       "        [ 4.4619e+00,  1.0649e+01,  7.0082e+00, -4.0465e+00, -7.2318e+00,\n",
       "         -5.0425e+00,  1.4011e+01, -1.1654e+01, -6.9724e+00,  6.5437e+00],\n",
       "        [ 1.8837e+00,  2.0888e+00, -1.8036e+00, -2.4912e+00, -3.8605e+00,\n",
       "         -4.3631e+00,  1.5664e+01, -4.2492e+00, -4.9128e+00, -6.6795e+00],\n",
       "        [ 1.6629e+01,  7.2369e+00, -3.1378e+00,  8.9050e+00, -1.4181e+01,\n",
       "         -4.2126e-01,  1.5506e+01, -5.0056e+00, -4.1816e+00, -9.7968e+00],\n",
       "        [ 1.0317e+01,  5.6321e+00,  6.9238e+00, -4.8053e-01, -1.3463e+01,\n",
       "         -3.4187e+00,  1.8248e+01, -6.9650e+00,  7.6542e+00, -1.6167e+01],\n",
       "        [-3.7234e+00,  1.1146e+01,  1.1620e+01, -8.2965e-01, -1.1291e+01,\n",
       "          4.5898e+00,  8.1103e+00, -9.1496e+00,  2.6570e+00, -8.2793e-01],\n",
       "        [-1.8285e+00,  9.5715e+00,  3.9195e+00,  4.9402e+00, -6.1011e+00,\n",
       "         -3.4271e+00,  8.7009e+00, -4.6083e+00,  8.6880e+00,  2.1300e+00],\n",
       "        [ 3.2046e+00,  1.0489e+01,  6.2917e+00,  4.0337e+00, -3.7080e+00,\n",
       "         -3.5841e+00,  1.0054e+01,  3.5470e-01, -2.0815e-02, -6.6732e+00],\n",
       "        [ 3.9701e+00,  8.7819e+00,  9.3852e+00,  3.3868e+00, -9.2896e+00,\n",
       "          3.8683e-01,  1.4982e+01, -9.1484e+00, -8.8802e+00,  7.1157e-01],\n",
       "        [-3.4097e+00,  1.1055e+01,  7.2378e-01,  2.6005e-01, -1.0456e+01,\n",
       "         -2.9935e+00,  1.7242e+01, -1.1443e+01, -1.2418e+01, -1.9675e+00],\n",
       "        [-6.5016e+00,  7.8854e+00,  6.1066e+00,  8.4543e+00, -1.2269e+01,\n",
       "          3.3569e+00,  1.6295e+01, -8.2583e+00, -3.7595e+00,  1.1076e+00],\n",
       "        [-4.5281e+00,  1.7128e+01, -9.4601e-01, -3.9613e+00, -5.2175e+00,\n",
       "         -9.3496e-02,  1.3829e+01,  5.0893e-01, -2.7470e-01, -7.4963e-01],\n",
       "        [-4.4172e-01,  1.1323e+01,  6.6397e-01,  3.7894e+00, -2.2464e+00,\n",
       "         -1.2739e+01,  1.4749e+01, -8.8866e+00,  5.9728e-01, -6.5715e+00],\n",
       "        [-4.3170e+00, -1.5039e-01, -8.0786e-01,  9.5746e-01, -7.3941e+00,\n",
       "         -6.2662e-01,  9.0369e+00, -9.0071e+00, -6.0516e+00, -1.1085e+01],\n",
       "        [ 5.8058e+00,  4.9123e+00, -7.3185e-01,  1.7405e+00, -5.8844e+00,\n",
       "         -1.1148e+01,  1.2788e+01, -9.6559e+00, -9.1756e+00, -5.0123e+00],\n",
       "        [ 5.6046e+00,  6.6481e+00,  6.2718e+00, -8.1173e-01, -2.5666e+01,\n",
       "         -6.6433e+00,  1.2758e+01,  2.1786e+00,  4.2410e-01, -5.0740e+00],\n",
       "        [ 4.8003e+00,  8.4713e+00,  7.9032e+00, -3.4449e-01, -2.0996e+01,\n",
       "         -8.0366e+00,  1.2188e+01, -2.9197e+00, -5.0281e+00, -4.5881e+00],\n",
       "        [ 3.3778e+00,  3.6785e+00, -4.0639e+00,  7.7748e+00, -8.6763e+00,\n",
       "          8.0245e+00,  1.8094e+01, -1.3983e+01,  6.6967e-01, -1.1281e+01],\n",
       "        [-3.5749e+00,  6.2904e+00,  5.9881e+00,  3.1942e+00, -9.5433e+00,\n",
       "         -5.7259e+00,  1.0920e+01,  5.4430e+00, -2.7808e+00, -2.2430e+00],\n",
       "        [-8.0772e+00,  1.0120e+01,  8.7950e+00,  1.8137e+00, -4.0558e+00,\n",
       "         -4.6074e+00,  2.0950e+01, -6.4511e+00, -6.3974e+00, -9.7965e-01],\n",
       "        [-1.7123e+00,  2.6217e-01,  6.6640e+00,  4.1021e+00, -6.5510e+00,\n",
       "         -9.2375e+00,  1.3974e+01, -7.9077e+00,  5.6905e+00, -6.1214e+00],\n",
       "        [-8.8656e+00,  2.2229e+00,  4.9585e+00,  1.4227e+00, -1.8338e+01,\n",
       "         -9.7515e+00,  9.8822e+00,  5.0563e-01,  1.3524e+00, -3.7927e+00],\n",
       "        [ 1.1682e+01,  7.5737e+00,  5.6204e+00,  2.1347e+00, -3.3785e+00,\n",
       "         -6.0934e+00,  1.5718e+01, -2.8105e+00, -6.1996e+00, -1.9427e+00],\n",
       "        [-3.6268e-01,  9.1561e+00,  3.4585e+00,  7.2981e+00, -2.8057e+00,\n",
       "         -5.6843e+00,  1.0121e+01, -1.1674e+01,  4.2871e+00, -4.0950e-01],\n",
       "        [ 5.0484e+00,  6.5777e-01, -5.7933e+00, -9.9086e-01, -8.5435e+00,\n",
       "         -1.0371e+01,  1.2395e+01,  8.0061e+00,  9.3904e-01, -8.3803e+00],\n",
       "        [ 4.3336e+00,  8.7575e+00, -1.1023e+00, -2.0996e+00, -1.1221e+01,\n",
       "         -6.3592e+00,  1.5383e+01, -5.9796e+00,  1.8122e+00, -5.7364e+00],\n",
       "        [ 2.2984e+00,  2.7224e-01,  6.1486e-01, -1.1689e+01, -6.1019e+00,\n",
       "         -1.5585e+01,  9.1625e+00, -1.9094e+00,  7.8538e-01,  7.4174e-01],\n",
       "        [ 1.1651e+00,  7.7924e+00,  4.0581e+00,  3.4172e+00, -9.2133e+00,\n",
       "          1.2377e+00,  1.4296e+01,  4.4079e-01, -1.2145e+00, -6.5233e+00],\n",
       "        [-1.5814e+00, -3.3522e+00,  5.3049e+00, -3.5174e-01, -7.0134e+00,\n",
       "         -3.1422e+00,  1.2285e+01, -1.1070e+01,  3.6533e+00, -1.2110e+01],\n",
       "        [ 1.6178e+01,  9.1568e+00,  2.4609e+00, -4.7197e-01, -1.1257e+01,\n",
       "         -8.6555e+00,  1.6042e+00, -4.5626e+00, -1.4282e+01,  1.5252e+00],\n",
       "        [ 2.7733e+00,  9.9110e+00,  1.6377e+00,  2.7784e+00, -6.0143e+00,\n",
       "         -8.6635e+00,  9.0148e+00, -6.3635e+00, -4.7914e-01,  9.2322e-01],\n",
       "        [-4.2432e+00, -1.1024e+00,  6.8302e+00,  8.8523e+00, -1.2952e+01,\n",
       "         -8.6727e+00,  1.2766e+01, -5.3620e+00,  7.8482e-01,  3.4268e-01],\n",
       "        [ 4.7373e+00,  2.3783e+00, -9.9687e-01, -2.6861e+00, -1.1631e+01,\n",
       "         -1.4807e+01,  9.2230e+00, -3.0873e+00, -5.6482e+00,  5.5116e-01],\n",
       "        [-1.5927e-01,  1.0472e+01, -3.6884e-01,  1.7590e+00, -5.2283e+00,\n",
       "         -7.5120e+00,  1.2580e+01, -6.7632e+00, -6.9795e+00, -7.1633e+00],\n",
       "        [ 3.3299e+00,  1.0734e+01,  4.0410e+00,  2.7992e+00, -8.3649e+00,\n",
       "         -6.5048e+00,  1.7817e+01, -6.8123e+00,  3.0424e+00, -1.1062e+01],\n",
       "        [ 5.0082e+00,  9.0121e+00,  1.0788e+01,  3.2087e+00, -1.7620e+01,\n",
       "         -1.2966e+01,  1.6349e+01, -7.1304e+00,  3.3520e+00, -7.4852e+00],\n",
       "        [ 3.9690e+00, -2.3932e+00, -5.1417e+00,  5.0271e+00, -1.3314e+01,\n",
       "         -3.4858e+00,  1.0162e+01,  4.2750e-01, -9.3008e+00, -8.4125e+00],\n",
       "        [ 6.6504e-01,  1.2308e+01,  1.5068e+00, -1.5827e+00, -2.6147e+00,\n",
       "          1.4306e-01,  1.0723e+01, -8.4115e+00, -3.4622e+00, -7.1298e+00],\n",
       "        [-8.8611e-01,  2.1730e+00,  2.6428e-01,  4.2189e+00, -1.4362e+01,\n",
       "         -4.6156e+00,  1.6799e+01, -6.8508e+00, -4.0157e+00, -3.4775e+00],\n",
       "        [-1.3494e+00, -2.8750e-01,  6.1858e+00, -3.1251e+00, -3.3092e+00,\n",
       "         -6.1568e+00,  8.6377e+00, -1.4735e+01, -4.0850e+00,  4.4087e-01],\n",
       "        [ 1.0156e+01,  7.8574e+00,  6.0153e+00, -3.3741e+00, -1.7782e+01,\n",
       "          1.0532e+01,  2.0746e+01, -4.3135e+00, -8.7698e+00, -5.8692e+00],\n",
       "        [-4.7959e+00,  6.1143e+00,  5.2761e+00, -2.9428e+00, -7.7583e+00,\n",
       "         -4.7660e+00,  9.4041e+00, -3.3140e+00, -5.8832e+00, -1.7809e+00],\n",
       "        [-1.0684e+00,  8.8398e+00,  4.1151e+00, -1.9255e+00, -6.4195e+00,\n",
       "         -6.3187e+00,  1.3342e+01,  4.5829e+00, -1.7231e+00, -4.2638e+00],\n",
       "        [ 2.4437e-01,  3.8646e+00,  9.3832e+00, -9.7527e-01, -9.0143e+00,\n",
       "         -8.4563e+00,  1.4654e+01, -5.4201e+00, -1.8381e+00, -1.4318e+00],\n",
       "        [ 4.0225e-02,  4.2383e+00,  2.5049e+00, -7.6376e+00, -1.4165e+01,\n",
       "         -7.3269e+00,  1.0511e+01,  5.9872e+00, -4.3990e+00,  3.8585e+00],\n",
       "        [-1.3209e+00,  9.1250e+00,  1.6051e+01,  2.5141e-01, -5.1132e+00,\n",
       "          3.0330e+00,  1.9521e+01, -7.6111e+00,  7.6010e+00, -8.5955e+00],\n",
       "        [-1.0658e+00,  9.2044e+00,  8.8913e+00,  4.1958e+00, -1.0555e+01,\n",
       "         -4.0843e+00,  1.5769e+01, -2.4927e+00, -2.0181e-01, -1.9723e+00],\n",
       "        [ 1.9805e+00, -2.5378e+00,  8.4417e+00, -5.5928e+00, -1.4839e+01,\n",
       "         -2.8207e+00,  1.3566e+01,  9.1698e-01, -9.4979e+00,  2.0786e-01],\n",
       "        [ 6.6492e+00, -2.0287e+00,  4.6225e+00,  3.5418e+00, -1.6860e+01,\n",
       "         -1.1144e+01,  1.1929e+01, -7.7894e+00,  2.9592e+00, -7.5222e+00],\n",
       "        [ 3.4845e+00,  3.5950e+00,  1.1071e+01,  6.4757e+00, -7.9858e+00,\n",
       "         -5.7444e+00,  1.1582e+01, -8.1455e+00,  9.1849e+00, -6.8855e+00],\n",
       "        [ 3.0008e+00,  9.8945e+00,  9.8474e-01,  5.2208e+00, -1.4461e+01,\n",
       "         -5.1033e+00,  1.6451e+01, -6.8726e+00, -2.7171e+00, -1.7071e+00],\n",
       "        [ 7.9617e+00,  1.6163e+01, -2.7283e+00, -5.1017e-02, -1.5898e+00,\n",
       "         -5.3609e+00,  9.5884e+00,  2.5040e+00, -1.4421e+00, -6.6289e+00],\n",
       "        [ 4.9315e+00,  7.8553e+00, -1.3023e+00, -3.3379e+00, -1.5654e+01,\n",
       "         -1.5033e+01,  1.3007e+01, -3.2590e+00, -8.6599e-01,  1.1684e+00],\n",
       "        [ 1.1646e+01,  9.0419e-01,  4.2444e+00, -2.1369e-01, -2.2179e+01,\n",
       "         -2.4660e+00,  7.9836e+00, -6.9806e+00, -5.0598e+00, -4.4078e+00],\n",
       "        [ 1.4076e+00,  2.1122e+01,  1.7964e+00,  5.4658e+00, -2.5877e+00,\n",
       "          4.3425e-01,  1.6097e+01, -1.4426e+01,  6.2966e-01, -1.0513e+01],\n",
       "        [ 2.9319e+00, -8.4835e-01, -4.6244e+00, -2.6883e-01, -1.4395e+01,\n",
       "          2.7393e+00,  1.2736e+01, -1.5910e+00, -5.6397e+00, -3.3619e+00],\n",
       "        [ 1.4675e+01,  7.4747e+00,  7.5507e+00,  1.2518e+00, -1.3096e+01,\n",
       "         -5.8528e+00,  7.6207e+00, -7.9057e+00, -6.1202e+00, -3.4707e+00],\n",
       "        [-2.1970e+00,  4.0964e+00,  1.9752e+00,  5.9302e+00, -1.5590e+01,\n",
       "         -1.1403e+01,  6.9792e+00, -2.1217e+00,  3.2837e+00, -4.1864e+00],\n",
       "        [ 3.4955e+00,  5.0474e+00,  4.0050e+00,  6.3170e+00, -6.1922e+00,\n",
       "          7.4864e-01,  1.4941e+01, -5.5907e+00, -2.8079e+00, -7.9714e+00],\n",
       "        [ 1.2551e+01,  8.1549e+00,  7.0876e+00,  3.7614e-01, -5.4000e+00,\n",
       "         -4.7595e+00,  1.8382e+01, -1.4577e+01, -9.7621e+00, -9.1697e+00],\n",
       "        [ 8.2182e+00,  8.0966e+00,  7.1180e+00, -3.3209e+00, -6.6370e+00,\n",
       "         -1.5331e+01,  1.3507e+01, -2.0705e+00, -6.2702e+00, -8.4033e+00],\n",
       "        [-7.6111e+00, -4.8093e-01,  8.7981e+00, -3.0435e+00, -8.1309e+00,\n",
       "         -9.1349e-01,  1.1477e+01, -1.2377e+01, -5.2861e+00, -4.6785e+00],\n",
       "        [ 5.7767e+00,  1.7420e+01,  2.1758e+01,  6.8823e+00, -2.2885e+00,\n",
       "          4.1443e+00,  1.6355e+01, -4.7570e+00, -7.7302e+00, -6.4183e+00],\n",
       "        [ 3.8665e+00,  3.6936e+00,  4.4896e+00, -4.1240e+00, -1.0156e+01,\n",
       "         -9.8595e+00,  5.6789e+00, -1.2636e+01, -3.3394e+00, -9.2939e+00]])"
      ]
     },
     "execution_count": 5,
     "metadata": {},
     "output_type": "execute_result"
    }
   ],
   "source": [
    "def activation(x):\n",
    "    return 1/(1+torch.exp(-x))\n",
    "\n",
    "# Flatten the input images\n",
    "inputs = images.view(images.shape[0], -1)\n",
    "\n",
    "# Create parameters\n",
    "w1 = torch.randn(784, 256)\n",
    "b1 = torch.randn(256)\n",
    "\n",
    "w2 = torch.randn(256, 10)\n",
    "b2 = torch.randn(10)\n",
    "\n",
    "h = activation(torch.mm(inputs, w1) + b1)\n",
    "\n",
    "out = torch.mm(h, w2) + b2\n",
    "out"
   ]
  },
  {
   "cell_type": "markdown",
   "metadata": {},
   "source": [
    "Now we have 10 outputs for our network. We want to pass in an image to our network and get out a probability distribution over the classes that tells us the likely class(es) the image belongs to. Something that looks like this:\n",
    "<img src='assets/image_distribution.png' width=500px>\n",
    "\n",
    "Here we see that the probability for each class is roughly the same. This is representing an untrained network, it hasn't seen any data yet so it just returns a uniform distribution with equal probabilities for each class.\n",
    "\n",
    "To calculate this probability distribution, we often use the [**softmax** function](https://en.wikipedia.org/wiki/Softmax_function). Mathematically this looks like\n",
    "\n",
    "$$\n",
    "\\Large \\sigma(x_i) = \\cfrac{e^{x_i}}{\\sum_k^K{e^{x_k}}}\n",
    "$$\n",
    "\n",
    "What this does is squish each input $x_i$ between 0 and 1 and normalizes the values to give you a proper probability distribution where the probabilites sum up to one.\n",
    "\n",
    "> **Exercise:** Implement a function `softmax` that performs the softmax calculation and returns probability distributions for each example in the batch. Note that you'll need to pay attention to the shapes when doing this. If you have a tensor `a` with shape `(64, 10)` and a tensor `b` with shape `(64,)`, doing `a/b` will give you an error because PyTorch will try to do the division across the columns (called broadcasting) but you'll get a size mismatch. The way to think about this is for each of the 64 examples, you only want to divide by one value, the sum in the denominator. So you need `b` to have a shape of `(64, 1)`. This way PyTorch will divide the 10 values in each row of `a` by the one value in each row of `b`. Pay attention to how you take the sum as well. You'll need to define the `dim` keyword in `torch.sum`. Setting `dim=0` takes the sum across the rows while `dim=1` takes the sum across the columns."
   ]
  },
  {
   "cell_type": "code",
   "execution_count": 6,
   "metadata": {},
   "outputs": [
    {
     "name": "stdout",
     "output_type": "stream",
     "text": [
      "torch.Size([64, 10])\n",
      "tensor([1.0000, 1.0000, 1.0000, 1.0000, 1.0000, 1.0000, 1.0000, 1.0000, 1.0000,\n",
      "        1.0000, 1.0000, 1.0000, 1.0000, 1.0000, 1.0000, 1.0000, 1.0000, 1.0000,\n",
      "        1.0000, 1.0000, 1.0000, 1.0000, 1.0000, 1.0000, 1.0000, 1.0000, 1.0000,\n",
      "        1.0000, 1.0000, 1.0000, 1.0000, 1.0000, 1.0000, 1.0000, 1.0000, 1.0000,\n",
      "        1.0000, 1.0000, 1.0000, 1.0000, 1.0000, 1.0000, 1.0000, 1.0000, 1.0000,\n",
      "        1.0000, 1.0000, 1.0000, 1.0000, 1.0000, 1.0000, 1.0000, 1.0000, 1.0000,\n",
      "        1.0000, 1.0000, 1.0000, 1.0000, 1.0000, 1.0000, 1.0000, 1.0000, 1.0000,\n",
      "        1.0000])\n"
     ]
    }
   ],
   "source": [
    "## Solution\n",
    "def softmax(x):\n",
    "    return torch.exp(x)/torch.sum(torch.exp(x), dim=1).view(-1, 1)\n",
    "\n",
    "probabilities = softmax(out)\n",
    "\n",
    "# Does it have the right shape? Should be (64, 10)\n",
    "print(probabilities.shape)\n",
    "# Does it sum to 1?\n",
    "print(probabilities.sum(dim=1))"
   ]
  },
  {
   "cell_type": "markdown",
   "metadata": {},
   "source": [
    "## Building networks with PyTorch\n",
    "\n",
    "PyTorch provides a module `nn` that makes building networks much simpler. Here I'll show you how to build the same one as above with 784 inputs, 256 hidden units, 10 output units and a softmax output."
   ]
  },
  {
   "cell_type": "code",
   "execution_count": 7,
   "metadata": {},
   "outputs": [],
   "source": [
    "from torch import nn"
   ]
  },
  {
   "cell_type": "code",
   "execution_count": 8,
   "metadata": {},
   "outputs": [],
   "source": [
    "class Network(nn.Module):\n",
    "    def __init__(self):\n",
    "        super().__init__()\n",
    "        \n",
    "        # Inputs to hidden layer linear transformation\n",
    "        self.hidden = nn.Linear(784, 256)\n",
    "        # Output layer, 10 units - one for each digit\n",
    "        self.output = nn.Linear(256, 10)\n",
    "        \n",
    "        # Define sigmoid activation and softmax output \n",
    "        self.sigmoid = nn.Sigmoid()\n",
    "        self.softmax = nn.Softmax(dim=1)\n",
    "        \n",
    "    def forward(self, x):\n",
    "        # Pass the input tensor through each of our operations\n",
    "        x = self.hidden(x)\n",
    "        x = self.sigmoid(x)\n",
    "        x = self.output(x)\n",
    "        x = self.softmax(x)\n",
    "        \n",
    "        return x"
   ]
  },
  {
   "cell_type": "markdown",
   "metadata": {},
   "source": [
    "Let's go through this bit by bit.\n",
    "\n",
    "```python\n",
    "class Network(nn.Module):\n",
    "```\n",
    "\n",
    "Here we're inheriting from `nn.Module`. Combined with `super().__init__()` this creates a class that tracks the architecture and provides a lot of useful methods and attributes. It is mandatory to inherit from `nn.Module` when you're creating a class for your network. The name of the class itself can be anything.\n",
    "\n",
    "```python\n",
    "self.hidden = nn.Linear(784, 256)\n",
    "```\n",
    "\n",
    "This line creates a module for a linear transformation, $x\\mathbf{W} + b$, with 784 inputs and 256 outputs and assigns it to `self.hidden`. The module automatically creates the weight and bias tensors which we'll use in the `forward` method. You can access the weight and bias tensors once the network (`net`) is created with `net.hidden.weight` and `net.hidden.bias`.\n",
    "\n",
    "```python\n",
    "self.output = nn.Linear(256, 10)\n",
    "```\n",
    "\n",
    "Similarly, this creates another linear transformation with 256 inputs and 10 outputs.\n",
    "\n",
    "```python\n",
    "self.sigmoid = nn.Sigmoid()\n",
    "self.softmax = nn.Softmax(dim=1)\n",
    "```\n",
    "\n",
    "Here I defined operations for the sigmoid activation and softmax output. Setting `dim=1` in `nn.Softmax(dim=1)` calculates softmax across the columns.\n",
    "\n",
    "```python\n",
    "def forward(self, x):\n",
    "```\n",
    "\n",
    "PyTorch networks created with `nn.Module` must have a `forward` method defined. It takes in a tensor `x` and passes it through the operations you defined in the `__init__` method.\n",
    "\n",
    "```python\n",
    "x = self.hidden(x)\n",
    "x = self.sigmoid(x)\n",
    "x = self.output(x)\n",
    "x = self.softmax(x)\n",
    "```\n",
    "\n",
    "Here the input tensor `x` is passed through each operation a reassigned to `x`. We can see that the input tensor goes through the hidden layer, then a sigmoid function, then the output layer, and finally the softmax function. It doesn't matter what you name the variables here, as long as the inputs and outputs of the operations match the network architecture you want to build. The order in which you define things in the `__init__` method doesn't matter, but you'll need to sequence the operations correctly in the `forward` method.\n",
    "\n",
    "Now we can create a `Network` object."
   ]
  },
  {
   "cell_type": "code",
   "execution_count": 9,
   "metadata": {},
   "outputs": [
    {
     "data": {
      "text/plain": [
       "Network(\n",
       "  (hidden): Linear(in_features=784, out_features=256, bias=True)\n",
       "  (output): Linear(in_features=256, out_features=10, bias=True)\n",
       "  (sigmoid): Sigmoid()\n",
       "  (softmax): Softmax(dim=1)\n",
       ")"
      ]
     },
     "execution_count": 9,
     "metadata": {},
     "output_type": "execute_result"
    }
   ],
   "source": [
    "# Create the network and look at it's text representation\n",
    "model = Network()\n",
    "model"
   ]
  },
  {
   "cell_type": "markdown",
   "metadata": {},
   "source": [
    "You can define the network somewhat more concisely and clearly using the `torch.nn.functional` module. This is the most common way you'll see networks defined as many operations are simple element-wise functions. We normally import this module as `F`, `import torch.nn.functional as F`."
   ]
  },
  {
   "cell_type": "code",
   "execution_count": 10,
   "metadata": {},
   "outputs": [],
   "source": [
    "import torch.nn.functional as F\n",
    "\n",
    "class Network(nn.Module):\n",
    "    def __init__(self):\n",
    "        super().__init__()\n",
    "        # Inputs to hidden layer linear transformation\n",
    "        self.hidden = nn.Linear(784, 256)\n",
    "        # Output layer, 10 units - one for each digit\n",
    "        self.output = nn.Linear(256, 10)\n",
    "        \n",
    "    def forward(self, x):\n",
    "        # Hidden layer with sigmoid activation\n",
    "        x = F.sigmoid(self.hidden(x))\n",
    "        # Output layer with softmax activation\n",
    "        x = F.softmax(self.output(x), dim=1)\n",
    "        \n",
    "        return x"
   ]
  },
  {
   "cell_type": "markdown",
   "metadata": {},
   "source": [
    "### Activation functions\n",
    "\n",
    "So far we've only been looking at the softmax activation, but in general any function can be used as an activation function. The only requirement is that for a network to approximate a non-linear function, the activation functions must be non-linear. Here are a few more examples of common activation functions: Tanh (hyperbolic tangent), and ReLU (rectified linear unit).\n",
    "\n",
    "<img src=\"assets/activation.png\" width=700px>\n",
    "\n",
    "In practice, the ReLU function is used almost exclusively as the activation function for hidden layers."
   ]
  },
  {
   "cell_type": "markdown",
   "metadata": {},
   "source": [
    "### Your Turn to Build a Network\n",
    "\n",
    "<img src=\"assets/mlp_mnist.png\" width=600px>\n",
    "\n",
    "> **Exercise:** Create a network with 784 input units, a hidden layer with 128 units and a ReLU activation, then a hidden layer with 64 units and a ReLU activation, and finally an output layer with a softmax activation as shown above. You can use a ReLU activation with the `nn.ReLU` module or `F.relu` function.\n",
    "\n",
    "It's good practice to name your layers by their type of network, for instance 'fc' to represent a fully-connected layer. As you code your solution, use `fc1`, `fc2`, and `fc3` as your layer names."
   ]
  },
  {
   "cell_type": "code",
   "execution_count": 11,
   "metadata": {
    "scrolled": true
   },
   "outputs": [
    {
     "data": {
      "text/plain": [
       "Network(\n",
       "  (fc1): Linear(in_features=784, out_features=128, bias=True)\n",
       "  (fc2): Linear(in_features=128, out_features=64, bias=True)\n",
       "  (fc3): Linear(in_features=64, out_features=10, bias=True)\n",
       ")"
      ]
     },
     "execution_count": 11,
     "metadata": {},
     "output_type": "execute_result"
    }
   ],
   "source": [
    "## Solution\n",
    "\n",
    "class Network(nn.Module):\n",
    "    def __init__(self):\n",
    "        super().__init__()\n",
    "        # Defining the layers, 128, 64, 10 units each\n",
    "        self.fc1 = nn.Linear(784, 128)\n",
    "        self.fc2 = nn.Linear(128, 64)\n",
    "        # Output layer, 10 units - one for each digit\n",
    "        self.fc3 = nn.Linear(64, 10)\n",
    "        \n",
    "    def forward(self, x):\n",
    "        ''' Forward pass through the network, returns the output logits '''\n",
    "        \n",
    "        x = self.fc1(x)\n",
    "        x = F.relu(x)\n",
    "        x = self.fc2(x)\n",
    "        x = F.relu(x)\n",
    "        x = self.fc3(x)\n",
    "        x = F.softmax(x, dim=1)\n",
    "        \n",
    "        return x\n",
    "\n",
    "model = Network()\n",
    "model"
   ]
  },
  {
   "cell_type": "markdown",
   "metadata": {},
   "source": [
    "### Initializing weights and biases\n",
    "\n",
    "The weights and such are automatically initialized for you, but it's possible to customize how they are initialized. The weights and biases are tensors attached to the layer you defined, you can get them with `model.fc1.weight` for instance."
   ]
  },
  {
   "cell_type": "code",
   "execution_count": 12,
   "metadata": {},
   "outputs": [
    {
     "name": "stdout",
     "output_type": "stream",
     "text": [
      "Parameter containing:\n",
      "tensor([[ 0.0311,  0.0170, -0.0053,  ...,  0.0280, -0.0056, -0.0318],\n",
      "        [-0.0247,  0.0140, -0.0276,  ...,  0.0227, -0.0176,  0.0149],\n",
      "        [-0.0340, -0.0059,  0.0264,  ..., -0.0138, -0.0176,  0.0122],\n",
      "        ...,\n",
      "        [ 0.0161,  0.0244,  0.0162,  ...,  0.0054, -0.0333,  0.0115],\n",
      "        [ 0.0195,  0.0156, -0.0029,  ...,  0.0252, -0.0244, -0.0031],\n",
      "        [ 0.0313, -0.0158,  0.0243,  ..., -0.0003, -0.0292, -0.0012]],\n",
      "       requires_grad=True)\n",
      "Parameter containing:\n",
      "tensor([ 0.0086, -0.0076, -0.0142,  0.0226, -0.0109,  0.0228, -0.0249, -0.0198,\n",
      "        -0.0212,  0.0108,  0.0115, -0.0180,  0.0054,  0.0172, -0.0272, -0.0327,\n",
      "         0.0061,  0.0059,  0.0036, -0.0178,  0.0052, -0.0105,  0.0220, -0.0158,\n",
      "        -0.0211, -0.0215, -0.0013, -0.0025,  0.0059,  0.0044,  0.0151,  0.0327,\n",
      "         0.0153,  0.0094, -0.0247, -0.0144,  0.0095,  0.0139, -0.0226,  0.0273,\n",
      "         0.0186, -0.0037,  0.0146, -0.0095,  0.0194,  0.0162, -0.0292, -0.0023,\n",
      "        -0.0348, -0.0232, -0.0038, -0.0129,  0.0184,  0.0317, -0.0077, -0.0298,\n",
      "         0.0006,  0.0058, -0.0270,  0.0256, -0.0158, -0.0244, -0.0039,  0.0223,\n",
      "         0.0097, -0.0064,  0.0299, -0.0184, -0.0346, -0.0322,  0.0164,  0.0039,\n",
      "         0.0289, -0.0035, -0.0300, -0.0250, -0.0129,  0.0084,  0.0146,  0.0295,\n",
      "        -0.0022,  0.0027, -0.0032,  0.0245,  0.0293,  0.0341, -0.0091,  0.0026,\n",
      "         0.0081, -0.0180,  0.0232,  0.0101, -0.0245,  0.0293, -0.0176,  0.0349,\n",
      "         0.0259,  0.0218, -0.0323, -0.0009,  0.0276, -0.0346, -0.0062, -0.0150,\n",
      "        -0.0072, -0.0273, -0.0135,  0.0341, -0.0287,  0.0102, -0.0297, -0.0335,\n",
      "        -0.0140,  0.0294,  0.0116, -0.0284, -0.0088, -0.0110,  0.0085, -0.0204,\n",
      "         0.0142,  0.0339, -0.0285,  0.0330, -0.0102, -0.0285, -0.0173,  0.0057],\n",
      "       requires_grad=True)\n"
     ]
    }
   ],
   "source": [
    "print(model.fc1.weight)\n",
    "print(model.fc1.bias)"
   ]
  },
  {
   "cell_type": "markdown",
   "metadata": {},
   "source": [
    "For custom initialization, we want to modify these tensors in place. These are actually autograd *Variables*, so we need to get back the actual tensors with `model.fc1.weight.data`. Once we have the tensors, we can fill them with zeros (for biases) or random normal values."
   ]
  },
  {
   "cell_type": "code",
   "execution_count": 13,
   "metadata": {},
   "outputs": [
    {
     "data": {
      "text/plain": [
       "tensor([0., 0., 0., 0., 0., 0., 0., 0., 0., 0., 0., 0., 0., 0., 0., 0., 0., 0., 0., 0., 0., 0., 0., 0.,\n",
       "        0., 0., 0., 0., 0., 0., 0., 0., 0., 0., 0., 0., 0., 0., 0., 0., 0., 0., 0., 0., 0., 0., 0., 0.,\n",
       "        0., 0., 0., 0., 0., 0., 0., 0., 0., 0., 0., 0., 0., 0., 0., 0., 0., 0., 0., 0., 0., 0., 0., 0.,\n",
       "        0., 0., 0., 0., 0., 0., 0., 0., 0., 0., 0., 0., 0., 0., 0., 0., 0., 0., 0., 0., 0., 0., 0., 0.,\n",
       "        0., 0., 0., 0., 0., 0., 0., 0., 0., 0., 0., 0., 0., 0., 0., 0., 0., 0., 0., 0., 0., 0., 0., 0.,\n",
       "        0., 0., 0., 0., 0., 0., 0., 0.])"
      ]
     },
     "execution_count": 13,
     "metadata": {},
     "output_type": "execute_result"
    }
   ],
   "source": [
    "# Set biases to all zeros\n",
    "model.fc1.bias.data.fill_(0)"
   ]
  },
  {
   "cell_type": "code",
   "execution_count": 14,
   "metadata": {},
   "outputs": [
    {
     "data": {
      "text/plain": [
       "tensor([[ 0.0063,  0.0163, -0.0177,  ..., -0.0089,  0.0156,  0.0120],\n",
       "        [-0.0018,  0.0190, -0.0175,  ...,  0.0006,  0.0100,  0.0182],\n",
       "        [ 0.0105,  0.0009, -0.0087,  ..., -0.0171,  0.0096, -0.0058],\n",
       "        ...,\n",
       "        [-0.0151, -0.0012, -0.0124,  ...,  0.0078, -0.0065, -0.0086],\n",
       "        [ 0.0130,  0.0012,  0.0073,  ..., -0.0090,  0.0018, -0.0014],\n",
       "        [ 0.0020, -0.0026, -0.0063,  ...,  0.0019,  0.0061,  0.0046]])"
      ]
     },
     "execution_count": 14,
     "metadata": {},
     "output_type": "execute_result"
    }
   ],
   "source": [
    "# sample from random normal with standard dev = 0.01\n",
    "model.fc1.weight.data.normal_(std=0.01)"
   ]
  },
  {
   "cell_type": "markdown",
   "metadata": {},
   "source": [
    "### Forward pass\n",
    "\n",
    "Now that we have a network, let's see what happens when we pass in an image."
   ]
  },
  {
   "cell_type": "code",
   "execution_count": 15,
   "metadata": {},
   "outputs": [
    {
     "data": {
      "image/png": "[encoded data removed]",
      "text/plain": [
       "<Figure size 432x648 with 2 Axes>"
      ]
     },
     "metadata": {
      "image/png": {
       "height": 235,
       "width": 424
      },
      "needs_background": "light"
     },
     "output_type": "display_data"
    }
   ],
   "source": [
    "# Grab some data \n",
    "dataiter = iter(trainloader)\n",
    "images, labels = dataiter.next()\n",
    "\n",
    "# Resize images into a 1D vector, new shape is (batch size, color channels, image pixels) \n",
    "images.resize_(64, 1, 784)\n",
    "# or images.resize_(images.shape[0], 1, 784) to automatically get batch size\n",
    "\n",
    "# Forward pass through the network\n",
    "img_idx = 0\n",
    "ps = model.forward(images[img_idx,:])\n",
    "\n",
    "img = images[img_idx]\n",
    "helper.view_classify(img.view(1, 28, 28), ps)"
   ]
  },
  {
   "cell_type": "markdown",
   "metadata": {},
   "source": [
    "As you can see above, our network has basically no idea what this digit is. It's because we haven't trained it yet, all the weights are random!\n",
    "\n",
    "### Using `nn.Sequential`\n",
    "\n",
    "PyTorch provides a convenient way to build networks like this where a tensor is passed sequentially through operations, `nn.Sequential` ([documentation](https://pytorch.org/docs/master/nn.html#torch.nn.Sequential)). Using this to build the equivalent network:"
   ]
  },
  {
   "cell_type": "code",
   "execution_count": 16,
   "metadata": {},
   "outputs": [
    {
     "name": "stdout",
     "output_type": "stream",
     "text": [
      "Sequential(\n",
      "  (0): Linear(in_features=784, out_features=128, bias=True)\n",
      "  (1): ReLU()\n",
      "  (2): Linear(in_features=128, out_features=64, bias=True)\n",
      "  (3): ReLU()\n",
      "  (4): Linear(in_features=64, out_features=10, bias=True)\n",
      "  (5): Softmax(dim=1)\n",
      ")\n"
     ]
    },
    {
     "data": {
      "image/png": "[encoded data removed]",
      "text/plain": [
       "<Figure size 432x648 with 2 Axes>"
      ]
     },
     "metadata": {
      "image/png": {
       "height": 235,
       "width": 424
      },
      "needs_background": "light"
     },
     "output_type": "display_data"
    }
   ],
   "source": [
    "# Hyperparameters for our network\n",
    "input_size = 784\n",
    "hidden_sizes = [128, 64]\n",
    "output_size = 10\n",
    "\n",
    "# Build a feed-forward network\n",
    "model = nn.Sequential(nn.Linear(input_size, hidden_sizes[0]),\n",
    "                      nn.ReLU(),\n",
    "                      nn.Linear(hidden_sizes[0], hidden_sizes[1]),\n",
    "                      nn.ReLU(),\n",
    "                      nn.Linear(hidden_sizes[1], output_size),\n",
    "                      nn.Softmax(dim=1))\n",
    "print(model)\n",
    "\n",
    "# Forward pass through the network and display output\n",
    "images, labels = next(iter(trainloader))\n",
    "images.resize_(images.shape[0], 1, 784)\n",
    "ps = model.forward(images[0,:])\n",
    "helper.view_classify(images[0].view(1, 28, 28), ps)"
   ]
  },
  {
   "cell_type": "markdown",
   "metadata": {},
   "source": [
    "The operations are availble by passing in the appropriate index. For example, if you want to get first Linear operation and look at the weights, you'd use `model[0]`."
   ]
  },
  {
   "cell_type": "code",
   "execution_count": 17,
   "metadata": {},
   "outputs": [
    {
     "name": "stdout",
     "output_type": "stream",
     "text": [
      "Linear(in_features=784, out_features=128, bias=True)\n"
     ]
    },
    {
     "data": {
      "text/plain": [
       "Parameter containing:\n",
       "tensor([[ 0.0350,  0.0113, -0.0043,  ...,  0.0278, -0.0346, -0.0178],\n",
       "        [-0.0150,  0.0012, -0.0114,  ..., -0.0222, -0.0068, -0.0260],\n",
       "        [-0.0243,  0.0019,  0.0347,  ...,  0.0091,  0.0180, -0.0142],\n",
       "        ...,\n",
       "        [ 0.0333,  0.0326,  0.0308,  ..., -0.0140,  0.0138, -0.0319],\n",
       "        [ 0.0342,  0.0162,  0.0352,  ...,  0.0271, -0.0249,  0.0070],\n",
       "        [ 0.0220,  0.0071, -0.0171,  ...,  0.0151, -0.0171, -0.0314]],\n",
       "       requires_grad=True)"
      ]
     },
     "execution_count": 17,
     "metadata": {},
     "output_type": "execute_result"
    }
   ],
   "source": [
    "print(model[0])\n",
    "model[0].weight"
   ]
  },
  {
   "cell_type": "markdown",
   "metadata": {},
   "source": [
    "You can also pass in an `OrderedDict` to name the individual layers and operations, instead of using incremental integers. Note that dictionary keys must be unique, so _each operation must have a different name_."
   ]
  },
  {
   "cell_type": "code",
   "execution_count": 18,
   "metadata": {},
   "outputs": [
    {
     "data": {
      "text/plain": [
       "Sequential(\n",
       "  (fc1): Linear(in_features=784, out_features=128, bias=True)\n",
       "  (relu1): ReLU()\n",
       "  (fc2): Linear(in_features=128, out_features=64, bias=True)\n",
       "  (relu2): ReLU()\n",
       "  (output): Linear(in_features=64, out_features=10, bias=True)\n",
       "  (softmax): Softmax(dim=1)\n",
       ")"
      ]
     },
     "execution_count": 18,
     "metadata": {},
     "output_type": "execute_result"
    }
   ],
   "source": [
    "from collections import OrderedDict\n",
    "model = nn.Sequential(OrderedDict([\n",
    "                      ('fc1', nn.Linear(input_size, hidden_sizes[0])),\n",
    "                      ('relu1', nn.ReLU()),\n",
    "                      ('fc2', nn.Linear(hidden_sizes[0], hidden_sizes[1])),\n",
    "                      ('relu2', nn.ReLU()),\n",
    "                      ('output', nn.Linear(hidden_sizes[1], output_size)),\n",
    "                      ('softmax', nn.Softmax(dim=1))]))\n",
    "model"
   ]
  },
  {
   "cell_type": "markdown",
   "metadata": {},
   "source": [
    "Now you can access layers either by integer or the name"
   ]
  },
  {
   "cell_type": "code",
   "execution_count": 19,
   "metadata": {},
   "outputs": [
    {
     "name": "stdout",
     "output_type": "stream",
     "text": [
      "Linear(in_features=784, out_features=128, bias=True)\n",
      "Linear(in_features=784, out_features=128, bias=True)\n"
     ]
    }
   ],
   "source": [
    "print(model[0])\n",
    "print(model.fc1)"
   ]
  },
  {
   "cell_type": "markdown",
   "metadata": {},
   "source": [
    "In the next notebook, we'll see how we can train a neural network to accuractly predict the numbers appearing in the MNIST images."
   ]
  },
  {
   "cell_type": "code",
   "execution_count": null,
   "metadata": {},
   "outputs": [],
   "source": []
  }
 ],
 "metadata": {
  "kernelspec": {
   "display_name": "Python 3",
   "language": "python",
   "name": "python3"
  },
  "language_info": {
   "codemirror_mode": {
    "name": "ipython",
    "version": 3
   },
   "file_extension": ".py",
   "mimetype": "text/x-python",
   "name": "python",
   "nbconvert_exporter": "python",
   "pygments_lexer": "ipython3",
   "version": "3.7.4"
  }
 },
 "nbformat": 4,
 "nbformat_minor": 4
}
