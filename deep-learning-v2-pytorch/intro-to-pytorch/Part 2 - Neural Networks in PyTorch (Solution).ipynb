{
 "cells": [
  {
   "cell_type": "markdown",
   "metadata": {},
   "source": [
    "# Neural networks with PyTorch\n",
    "\n",
    "Deep learning networks tend to be massive with dozens or hundreds of layers, that's where the term \"deep\" comes from. You can build one of these deep networks using only weight matrices as we did in the previous notebook, but in general it's very cumbersome and difficult to implement. PyTorch has a nice module `nn` that provides a nice way to efficiently build large neural networks."
   ]
  },
  {
   "cell_type": "code",
   "execution_count": 1,
   "metadata": {},
   "outputs": [],
   "source": [
    "# Import necessary packages\n",
    "\n",
    "%matplotlib inline\n",
    "%config InlineBackend.figure_format = 'retina'\n",
    "\n",
    "import numpy as np\n",
    "import torch\n",
    "\n",
    "import helper\n",
    "\n",
    "import matplotlib.pyplot as plt"
   ]
  },
  {
   "cell_type": "markdown",
   "metadata": {},
   "source": [
    "\n",
    "Now we're going to build a larger network that can solve a (formerly) difficult problem, identifying text in an image. Here we'll use the MNIST dataset which consists of greyscale handwritten digits. Each image is 28x28 pixels, you can see a sample below\n",
    "\n",
    "<img src='assets/mnist.png'>\n",
    "\n",
    "Our goal is to build a neural network that can take one of these images and predict the digit in the image.\n",
    "\n",
    "First up, we need to get our dataset. This is provided through the `torchvision` package. The code below will download the MNIST dataset, then create training and test datasets for us. Don't worry too much about the details here, you'll learn more about this later."
   ]
  },
  {
   "cell_type": "code",
   "execution_count": 2,
   "metadata": {},
   "outputs": [],
   "source": [
    "### Run this cell\n",
    "\n",
    "from torchvision import datasets, transforms\n",
    "\n",
    "# Define a transform to normalize the data\n",
    "transform = transforms.Compose([transforms.ToTensor(),\n",
    "                              transforms.Normalize((0.5,), (0.5,)),\n",
    "                              ])\n",
    "# Download and load the training data\n",
    "trainset = datasets.MNIST('~/.pytorch/MNIST_data/', download=True, train=True, transform=transform)\n",
    "trainloader = torch.utils.data.DataLoader(trainset, batch_size=64, shuffle=True)"
   ]
  },
  {
   "cell_type": "markdown",
   "metadata": {},
   "source": [
    "We have the training data loaded into `trainloader` and we make that an iterator with `iter(trainloader)`. Later, we'll use this to loop through the dataset for training, like\n",
    "\n",
    "```python\n",
    "for image, label in trainloader:\n",
    "    ## do things with images and labels\n",
    "```\n",
    "\n",
    "You'll notice I created the `trainloader` with a batch size of 64, and `shuffle=True`. The batch size is the number of images we get in one iteration from the data loader and pass through our network, often called a *batch*. And `shuffle=True` tells it to shuffle the dataset every time we start going through the data loader again. But here I'm just grabbing the first batch so we can check out the data. We can see below that `images` is just a tensor with size `(64, 1, 28, 28)`. So, 64 images per batch, 1 color channel, and 28x28 images."
   ]
  },
  {
   "cell_type": "code",
   "execution_count": 3,
   "metadata": {},
   "outputs": [
    {
     "name": "stdout",
     "output_type": "stream",
     "text": [
      "<class 'torch.Tensor'>\n",
      "torch.Size([64, 1, 28, 28])\n",
      "torch.Size([64])\n"
     ]
    }
   ],
   "source": [
    "dataiter = iter(trainloader)\n",
    "images, labels = dataiter.next()\n",
    "print(type(images))\n",
    "print(images.shape)\n",
    "print(labels.shape)"
   ]
  },
  {
   "cell_type": "markdown",
   "metadata": {},
   "source": [
    "This is what one of the images looks like. "
   ]
  },
  {
   "cell_type": "code",
   "execution_count": 4,
   "metadata": {},
   "outputs": [
    {
     "data": {
      "image/png": "[encoded data removed]",
      "text/plain": [
       "<Figure size 432x288 with 1 Axes>"
      ]
     },
     "metadata": {
      "image/png": {
       "height": 248,
       "width": 251
      },
      "needs_background": "light"
     },
     "output_type": "display_data"
    }
   ],
   "source": [
    "plt.imshow(images[1].numpy().squeeze(), cmap='Greys_r');"
   ]
  },
  {
   "cell_type": "markdown",
   "metadata": {},
   "source": [
    "First, let's try to build a simple network for this dataset using weight matrices and matrix multiplications. Then, we'll see how to do it using PyTorch's `nn` module which provides a much more convenient and powerful method for defining network architectures.\n",
    "\n",
    "The networks you've seen so far are called *fully-connected* or *dense* networks. Each unit in one layer is connected to each unit in the next layer. In fully-connected networks, the input to each layer must be a one-dimensional vector (which can be stacked into a 2D tensor as a batch of multiple examples). However, our images are 28x28 2D tensors, so we need to convert them into 1D vectors. Thinking about sizes, we need to convert the batch of images with shape `(64, 1, 28, 28)` to a have a shape of `(64, 784)`, 784 is 28 times 28. This is typically called *flattening*, we flattened the 2D images into 1D vectors.\n",
    "\n",
    "Previously you built a network with one output unit. Here we need 10 output units, one for each digit. We want our network to predict the digit shown in an image, so what we'll do is calculate probabilities that the image is of any one digit or class. This ends up being a discrete probability distribution over the classes (digits) that tells us the most likely class for the image. That means we need 10 output units for the 10 classes (digits). We'll see how to convert the network output into a probability distribution next.\n",
    "\n",
    "> **Exercise:** Flatten the batch of images `images`. Then build a multi-layer network with 784 input units, 256 hidden units, and 10 output units using random tensors for the weights and biases. For now, use a sigmoid activation for the hidden layer. Leave the output layer without an activation, we'll add one that gives us a probability distribution next."
   ]
  },
  {
   "cell_type": "code",
   "execution_count": 5,
   "metadata": {},
   "outputs": [
    {
     "data": {
      "text/plain": [
       "tensor([[-1.8411e+01,  3.7163e+00,  1.2328e+00, -2.3575e+00, -2.1801e+00,\n",
       "         -1.4454e+01,  1.1806e+01, -3.3549e+00, -2.0617e+00, -6.7780e+00],\n",
       "        [-1.0814e+01,  1.2201e+01,  8.5310e+00, -4.1773e+00,  2.6971e+00,\n",
       "         -1.6323e+01,  1.2276e+01, -7.7326e+00, -9.7849e+00, -4.7758e-01],\n",
       "        [-1.3357e+01, -7.7170e+00, -1.5084e-01, -4.7325e+00,  1.1103e+01,\n",
       "         -1.3283e+00,  1.4259e+01, -2.1107e+00,  5.1561e+00, -5.3686e+00],\n",
       "        [-1.6993e+01,  5.6573e+00, -4.3530e+00, -5.0273e+00, -3.9986e+00,\n",
       "         -4.2188e+00,  8.8355e+00,  1.0546e+01,  3.2985e+00,  5.5108e+00],\n",
       "        [-1.1210e+01, -3.5741e-01,  1.6566e+01,  5.6430e+00,  4.7293e+00,\n",
       "         -1.0437e+01,  1.9352e+01, -7.2643e+00, -1.1274e+01, -3.9873e+00],\n",
       "        [-1.5037e+01,  9.0448e+00,  6.8924e+00,  1.7807e+00, -5.1542e+00,\n",
       "         -1.5981e+01,  1.6800e+01, -1.7668e+01, -1.5973e+01, -2.1990e+01],\n",
       "        [-1.3035e+01,  4.1255e+00,  8.0895e+00, -1.5434e+01,  7.5570e-01,\n",
       "         -7.9486e+00,  7.6025e+00, -2.3001e+00, -1.2771e+01, -6.0901e+00],\n",
       "        [-1.4637e+01,  6.1021e+00,  1.1890e+01, -4.4216e-01, -1.0937e+00,\n",
       "         -1.4470e+01,  1.1772e+01, -8.7588e-01, -5.4947e+00,  6.1081e+00],\n",
       "        [-1.4194e+01,  8.4684e+00, -1.6205e+00, -2.7803e+00,  8.9410e-01,\n",
       "         -1.1701e+01,  8.3234e+00, -9.4829e+00, -9.6710e+00, -3.6301e+00],\n",
       "        [-1.6658e+01, -1.7100e+00,  1.3220e+01, -5.2210e+00,  1.2749e+00,\n",
       "         -4.5111e+00,  1.4207e+01,  4.8195e+00,  7.3608e-01, -1.9743e+00],\n",
       "        [-2.1422e+01,  1.1005e+01,  4.8343e+00, -6.8742e+00,  2.2769e+00,\n",
       "         -1.8322e+01,  1.0401e+01, -1.0038e+01, -1.0532e+01, -2.1234e+00],\n",
       "        [-5.2878e+00,  1.3456e+01,  3.3456e+00,  5.2752e+00, -2.4131e+00,\n",
       "         -1.6316e+01,  1.6085e+01, -8.5150e+00, -6.1968e+00, -3.6892e+00],\n",
       "        [-1.3211e+01,  5.0982e+00,  4.6034e+00, -9.4594e+00,  3.5060e+00,\n",
       "         -3.9202e+00,  1.2571e+01, -9.2261e+00, -1.1014e+01, -2.2991e+00],\n",
       "        [-1.8257e+01,  5.4915e+00,  9.3995e+00,  3.0135e+00, -3.1032e-01,\n",
       "         -1.7324e+01,  8.6703e+00, -4.6073e+00, -1.0822e+01, -2.7132e+00],\n",
       "        [-9.6175e+00,  3.4695e+00,  1.2659e+01,  4.0532e+00,  1.2986e+00,\n",
       "         -6.2140e+00,  1.0629e+01, -1.3060e+00, -9.2041e+00, -1.0718e+01],\n",
       "        [-2.1201e+01,  9.4768e+00,  6.5234e+00, -2.2446e+00, -6.3057e-02,\n",
       "         -1.7142e+01,  1.1486e+01, -1.6547e+00, -4.0881e+00, -8.5575e+00],\n",
       "        [-1.6258e+01, -6.9993e+00,  1.0401e+00,  3.9506e+00, -2.8570e-01,\n",
       "         -1.1364e+01,  2.0268e+01,  8.4971e-01,  4.0161e+00, -7.5801e+00],\n",
       "        [-1.5603e+01,  6.6046e+00,  6.9441e+00, -3.2974e+00,  6.6022e+00,\n",
       "         -2.1879e+01,  1.5201e+01, -6.3878e-01, -4.4799e+00, -1.1953e+01],\n",
       "        [-1.8979e+01,  2.2127e+00,  6.2729e-01, -5.7226e-01,  4.6674e+00,\n",
       "         -1.7874e+01,  1.3483e+01, -4.1425e+00, -8.0953e+00, -7.6448e+00],\n",
       "        [-6.6964e+00,  4.2534e+00,  1.2710e+01, -1.1136e+01, -1.8496e+00,\n",
       "         -1.0323e+01,  1.1978e+01, -6.9483e+00, -3.2836e+00, -5.7718e+00],\n",
       "        [-9.9217e+00,  1.1447e+01, -1.8395e+00, -1.2764e+00,  7.3691e+00,\n",
       "         -7.8939e+00,  1.8299e+01, -4.2536e-01,  2.5032e+00, -4.6146e+00],\n",
       "        [-1.4662e+01,  1.1782e+01, -1.1195e+01, -8.1369e-01,  2.4469e+00,\n",
       "         -4.5702e-01,  1.0881e+01, -1.1736e+01, -5.6129e-01, -1.5557e+01],\n",
       "        [-1.6727e+01,  3.9971e+00,  9.9032e+00, -1.4380e+00,  8.3532e+00,\n",
       "         -2.0870e+01,  1.3700e+01,  2.8236e+00, -6.0989e+00, -1.4532e+01],\n",
       "        [-1.0470e+01,  4.9986e+00,  9.6678e+00, -6.5519e+00, -2.8478e+00,\n",
       "         -7.3355e+00,  1.4538e+01, -1.3546e+01, -1.0482e+01,  8.3287e-01],\n",
       "        [-1.2815e+01,  1.5651e+00,  9.1473e+00,  3.2660e+00, -8.6241e-01,\n",
       "          4.6488e+00,  7.6724e+00,  1.6132e+00,  2.6838e+00, -4.1710e+00],\n",
       "        [-2.2403e+01,  1.1825e+01,  4.9802e+00, -1.0385e-02,  3.1239e+00,\n",
       "         -5.7887e+00,  1.4621e+01, -1.1909e+01, -5.5768e+00, -1.8833e+01],\n",
       "        [-7.7904e+00,  1.1644e+01,  1.9392e+01, -2.0880e+00, -1.3583e+01,\n",
       "         -1.1381e+01,  1.8475e+01, -1.4285e+01, -1.0635e+01, -1.4663e+01],\n",
       "        [-9.1635e+00,  1.1623e+01,  1.9145e+01, -8.9645e+00, -5.9429e+00,\n",
       "         -1.7487e+01,  1.5698e+01, -1.7147e+00, -1.6715e+01, -4.3921e+00],\n",
       "        [-2.1717e+00,  1.2427e+00,  9.5810e+00,  4.9865e+00,  8.4195e+00,\n",
       "         -9.2854e+00,  7.7431e+00, -8.1283e+00, -1.8312e+01, -1.3730e+01],\n",
       "        [-2.0615e+01, -3.2959e+00,  2.2802e+00, -6.1041e+00, -5.7365e+00,\n",
       "         -1.3385e+01,  1.6215e+01, -4.7912e+00, -1.7544e+00, -4.7876e+00],\n",
       "        [-1.6335e+01,  3.5983e+00, -3.0504e-01,  2.1292e+00, -6.3366e+00,\n",
       "         -1.3039e+01,  1.8097e+01, -9.1343e+00, -7.0646e+00, -5.0488e+00],\n",
       "        [-1.1480e+01,  4.8478e+00,  1.1660e+01, -5.6771e+00,  2.4993e+00,\n",
       "         -2.2036e+01,  8.3075e+00, -3.4463e+00, -1.0075e+01, -8.3858e+00],\n",
       "        [-1.5170e+01,  1.2845e+01,  4.4357e+00, -2.7995e+00, -8.0483e-01,\n",
       "         -1.7449e+01,  9.2575e+00, -9.3556e+00, -6.8322e+00, -7.3297e-01],\n",
       "        [-1.3929e+01,  9.1157e+00,  9.6438e+00, -4.5240e+00,  1.9489e-01,\n",
       "          5.1542e+00,  1.0176e+01, -7.5436e+00, -6.4342e+00, -5.0706e+00],\n",
       "        [-7.3877e+00,  1.4009e+01,  1.3220e-01, -1.6054e+00,  2.9004e+00,\n",
       "          2.9079e+00,  1.8760e+01, -5.0845e+00,  5.9962e+00, -2.5172e+00],\n",
       "        [-1.7014e+01,  1.6199e+01, -4.0584e+00, -6.4227e-01, -8.1907e+00,\n",
       "          6.0475e+00,  4.4969e+00, -4.9572e+00,  6.7780e+00, -3.2308e+00],\n",
       "        [-1.0019e+01,  9.8776e+00,  9.0295e+00,  7.2268e+00, -7.3028e+00,\n",
       "         -1.1634e+01,  1.7627e+01, -8.0564e+00, -9.9392e+00, -8.8183e+00],\n",
       "        [-1.7014e+01,  7.7592e+00,  6.9918e+00, -1.6440e+00,  1.6476e-01,\n",
       "         -2.8650e+00,  1.4185e+01,  6.6078e-01, -3.5783e+00,  4.0056e+00],\n",
       "        [-1.7566e+01, -2.1775e+00,  1.5262e+01, -8.1945e+00,  2.5319e+00,\n",
       "         -1.2650e+01,  7.4196e+00, -7.1884e+00, -1.1495e+01,  1.3106e+00],\n",
       "        [-1.6265e+01, -2.2294e+00, -2.3048e-01,  3.6182e+00, -6.2996e+00,\n",
       "         -1.4229e+00,  1.9582e+01, -1.4259e+01,  1.4521e+00, -8.8166e+00],\n",
       "        [-1.5739e+01,  9.5260e+00,  4.5888e+00, -2.9011e+00, -1.3508e+00,\n",
       "         -2.5128e+00,  1.5135e+01, -1.1638e+01, -5.5860e+00, -9.3167e+00],\n",
       "        [-2.9676e+00,  6.5929e+00,  5.8001e+00,  2.5957e+00, -8.0862e+00,\n",
       "         -1.2427e-01,  1.1625e+01, -8.5015e+00, -1.7666e+01, -1.4038e+01],\n",
       "        [-1.4584e+01,  5.7991e+00,  9.9224e+00,  7.5658e-01,  3.3177e-01,\n",
       "         -6.0799e+00,  1.3963e+01, -2.1305e+01, -6.9725e+00, -6.6096e+00],\n",
       "        [-1.8353e+01,  6.8588e+00,  6.8480e+00, -5.0926e+00,  1.3930e+00,\n",
       "         -1.6671e+01,  1.0217e+01, -1.6123e+00,  1.2690e+00, -3.2187e+00],\n",
       "        [-2.0358e+01,  2.4530e+00,  8.1113e+00,  4.5336e-01,  1.8128e+00,\n",
       "         -2.2372e+01,  1.1276e+01, -4.0842e+00, -4.9356e+00, -8.0757e+00],\n",
       "        [-6.3726e+00,  4.6028e+00,  1.3599e+00, -1.5672e+00, -8.5287e+00,\n",
       "         -1.2225e+01,  1.3383e+01, -1.4579e+01, -3.9538e+00, -1.3744e+01],\n",
       "        [-1.1797e+01,  7.0535e+00,  3.0363e+00,  8.4061e+00, -4.2597e+00,\n",
       "         -1.8214e+01,  1.0164e+01, -4.5875e+00, -1.1985e+01, -8.9133e+00],\n",
       "        [-7.9214e-01, -4.3233e+00,  1.8174e+01, -7.1440e+00,  3.8108e+00,\n",
       "         -7.6892e+00,  9.3803e+00, -2.8293e+00, -9.5434e+00, -8.7296e+00],\n",
       "        [-1.0285e+01,  1.1707e+01,  6.5856e+00, -3.5677e+00,  4.2615e+00,\n",
       "         -1.5367e+01,  1.3537e+01,  4.9793e+00, -1.1713e+00, -1.7106e+01],\n",
       "        [-8.1980e+00,  4.0374e+00,  9.4282e+00, -3.0374e+00,  5.7426e+00,\n",
       "         -9.5103e+00,  6.5333e+00, -4.2389e+00, -6.1252e+00,  1.2874e+00],\n",
       "        [-1.7892e+01,  5.3651e+00,  8.7586e+00, -3.7776e+00,  1.0663e+01,\n",
       "         -1.2570e+00,  1.6905e+01, -5.2506e+00, -2.4376e+00, -1.3798e-01],\n",
       "        [-1.0335e+01,  8.8572e-01,  1.3340e+01, -1.0335e+01,  4.7046e+00,\n",
       "         -1.3147e+01,  7.4200e+00,  2.1295e+00, -1.1378e+01, -4.9985e+00],\n",
       "        [-2.6608e+01,  1.0073e+01, -4.1769e+00, -1.7231e+00,  8.5915e+00,\n",
       "          1.0138e-01,  1.3543e+01, -3.1671e+00, -4.3509e-01, -2.6969e+00],\n",
       "        [-1.4237e+01,  3.7677e+00,  6.9534e+00, -8.4563e-01,  4.0055e+00,\n",
       "         -6.6500e+00,  1.8535e+01, -2.5835e+00, -1.6965e+00, -1.4405e+01],\n",
       "        [-2.2632e+01,  7.1996e+00,  7.7659e+00,  5.1093e+00,  6.2823e-01,\n",
       "         -1.7391e+01,  1.6480e+01, -1.4988e-01, -7.5433e+00, -1.0337e+01],\n",
       "        [-9.1901e+00,  1.1660e+01,  2.7596e+00,  2.9853e-02, -1.5577e+00,\n",
       "         -8.1006e+00,  8.1737e+00, -1.1601e+00, -3.8305e+00,  1.4986e+00],\n",
       "        [-1.0260e+01,  1.1722e+01,  2.6220e+00, -6.8444e+00, -1.1816e+00,\n",
       "         -8.4859e+00,  1.6086e+01, -8.7661e+00, -9.1625e+00, -7.8000e+00],\n",
       "        [-1.0693e+01,  6.7093e+00,  7.8380e+00, -4.2803e+00,  1.4256e+01,\n",
       "         -9.4222e-01,  1.4730e+01,  4.8804e-01, -5.1935e+00, -2.3511e+00],\n",
       "        [-1.1289e+01,  8.3611e+00, -4.8141e+00,  1.4650e+00, -5.9339e+00,\n",
       "         -7.7422e+00,  1.4702e+01, -2.3959e+00,  5.4034e+00, -7.0883e+00],\n",
       "        [-1.2294e+01,  8.5425e+00,  1.0274e+01,  1.6532e+00,  1.1337e+00,\n",
       "         -1.0439e+01,  2.6113e+01, -4.2748e+00, -3.1528e+00, -1.2154e+01],\n",
       "        [-1.8101e+01,  1.2479e+01,  1.0767e+01, -4.1795e+00,  1.2105e+00,\n",
       "         -1.2622e+01,  1.3467e+01, -7.1744e+00, -5.0196e+00, -8.1424e+00],\n",
       "        [-1.7544e+01,  3.2109e+00,  1.4838e+00,  3.2282e+00, -2.7396e-02,\n",
       "         -1.0660e+01,  1.1965e+01, -1.1571e+01, -4.8365e+00, -1.1397e+01],\n",
       "        [-9.0426e+00,  5.3633e+00,  9.4092e+00, -3.9310e+00, -2.2045e+00,\n",
       "         -1.1112e+01,  1.3558e+01, -1.2145e+01, -1.1796e+01, -3.0050e+00],\n",
       "        [-2.0798e+01,  2.7193e+00,  2.0504e+00, -1.4477e+00,  7.8062e+00,\n",
       "         -8.8147e+00,  1.3426e+01, -4.1616e+00, -7.2804e+00, -6.2628e+00]])"
      ]
     },
     "execution_count": 5,
     "metadata": {},
     "output_type": "execute_result"
    }
   ],
   "source": [
    "## Solution\n",
    "def activation(x):\n",
    "    return 1/(1+torch.exp(-x))\n",
    "\n",
    "# Flatten the input images\n",
    "inputs = images.view(images.shape[0], -1)\n",
    "\n",
    "# Create parameters\n",
    "w1 = torch.randn(784, 256)\n",
    "b1 = torch.randn(256)\n",
    "\n",
    "w2 = torch.randn(256, 10)\n",
    "b2 = torch.randn(10)\n",
    "\n",
    "h = activation(torch.mm(inputs, w1) + b1)\n",
    "\n",
    "out = torch.mm(h, w2) + b2\n",
    "out"
   ]
  },
  {
   "cell_type": "markdown",
   "metadata": {},
   "source": [
    "Now we have 10 outputs for our network. We want to pass in an image to our network and get out a probability distribution over the classes that tells us the likely class(es) the image belongs to. Something that looks like this:\n",
    "<img src='assets/image_distribution.png' width=500px>\n",
    "\n",
    "Here we see that the probability for each class is roughly the same. This is representing an untrained network, it hasn't seen any data yet so it just returns a uniform distribution with equal probabilities for each class.\n",
    "\n",
    "To calculate this probability distribution, we often use the [**softmax** function](https://en.wikipedia.org/wiki/Softmax_function). Mathematically this looks like\n",
    "\n",
    "$$\n",
    "\\Large \\sigma(x_i) = \\cfrac{e^{x_i}}{\\sum_k^K{e^{x_k}}}\n",
    "$$\n",
    "\n",
    "What this does is squish each input $x_i$ between 0 and 1 and normalizes the values to give you a proper probability distribution where the probabilites sum up to one.\n",
    "\n",
    "> **Exercise:** Implement a function `softmax` that performs the softmax calculation and returns probability distributions for each example in the batch. Note that you'll need to pay attention to the shapes when doing this. If you have a tensor `a` with shape `(64, 10)` and a tensor `b` with shape `(64,)`, doing `a/b` will give you an error because PyTorch will try to do the division across the columns (called broadcasting) but you'll get a size mismatch. The way to think about this is for each of the 64 examples, you only want to divide by one value, the sum in the denominator. So you need `b` to have a shape of `(64, 1)`. This way PyTorch will divide the 10 values in each row of `a` by the one value in each row of `b`. Pay attention to how you take the sum as well. You'll need to define the `dim` keyword in `torch.sum`. Setting `dim=0` takes the sum across the rows while `dim=1` takes the sum across the columns."
   ]
  },
  {
   "cell_type": "code",
   "execution_count": 6,
   "metadata": {},
   "outputs": [
    {
     "name": "stdout",
     "output_type": "stream",
     "text": [
      "torch.Size([64, 10])\n",
      "tensor([1.0000, 1.0000, 1.0000, 1.0000, 1.0000, 1.0000, 1.0000, 1.0000, 1.0000,\n",
      "        1.0000, 1.0000, 1.0000, 1.0000, 1.0000, 1.0000, 1.0000, 1.0000, 1.0000,\n",
      "        1.0000, 1.0000, 1.0000, 1.0000, 1.0000, 1.0000, 1.0000, 1.0000, 1.0000,\n",
      "        1.0000, 1.0000, 1.0000, 1.0000, 1.0000, 1.0000, 1.0000, 1.0000, 1.0000,\n",
      "        1.0000, 1.0000, 1.0000, 1.0000, 1.0000, 1.0000, 1.0000, 1.0000, 1.0000,\n",
      "        1.0000, 1.0000, 1.0000, 1.0000, 1.0000, 1.0000, 1.0000, 1.0000, 1.0000,\n",
      "        1.0000, 1.0000, 1.0000, 1.0000, 1.0000, 1.0000, 1.0000, 1.0000, 1.0000,\n",
      "        1.0000])\n"
     ]
    }
   ],
   "source": [
    "## Solution\n",
    "def softmax(x):\n",
    "    return torch.exp(x)/torch.sum(torch.exp(x), dim=1).view(-1, 1)\n",
    "\n",
    "probabilities = softmax(out)\n",
    "\n",
    "# Does it have the right shape? Should be (64, 10)\n",
    "print(probabilities.shape)\n",
    "# Does it sum to 1?\n",
    "print(probabilities.sum(dim=1))"
   ]
  },
  {
   "cell_type": "markdown",
   "metadata": {},
   "source": [
    "## Building networks with PyTorch\n",
    "\n",
    "PyTorch provides a module `nn` that makes building networks much simpler. Here I'll show you how to build the same one as above with 784 inputs, 256 hidden units, 10 output units and a softmax output."
   ]
  },
  {
   "cell_type": "code",
   "execution_count": 7,
   "metadata": {
    "collapsed": true
   },
   "outputs": [],
   "source": [
    "from torch import nn"
   ]
  },
  {
   "cell_type": "code",
   "execution_count": 8,
   "metadata": {
    "collapsed": true
   },
   "outputs": [],
   "source": [
    "class Network(nn.Module):\n",
    "    def __init__(self):\n",
    "        super().__init__()\n",
    "        \n",
    "        # Inputs to hidden layer linear transformation\n",
    "        self.hidden = nn.Linear(784, 256)\n",
    "        # Output layer, 10 units - one for each digit\n",
    "        self.output = nn.Linear(256, 10)\n",
    "        \n",
    "        # Define sigmoid activation and softmax output \n",
    "        self.sigmoid = nn.Sigmoid()\n",
    "        self.softmax = nn.Softmax(dim=1)\n",
    "        \n",
    "    def forward(self, x):\n",
    "        # Pass the input tensor through each of our operations\n",
    "        x = self.hidden(x)\n",
    "        x = self.sigmoid(x)\n",
    "        x = self.output(x)\n",
    "        x = self.softmax(x)\n",
    "        \n",
    "        return x"
   ]
  },
  {
   "cell_type": "markdown",
   "metadata": {},
   "source": [
    "Let's go through this bit by bit.\n",
    "\n",
    "```python\n",
    "class Network(nn.Module):\n",
    "```\n",
    "\n",
    "Here we're inheriting from `nn.Module`. Combined with `super().__init__()` this creates a class that tracks the architecture and provides a lot of useful methods and attributes. It is mandatory to inherit from `nn.Module` when you're creating a class for your network. The name of the class itself can be anything.\n",
    "\n",
    "```python\n",
    "self.hidden = nn.Linear(784, 256)\n",
    "```\n",
    "\n",
    "This line creates a module for a linear transformation, $x\\mathbf{W} + b$, with 784 inputs and 256 outputs and assigns it to `self.hidden`. The module automatically creates the weight and bias tensors which we'll use in the `forward` method. You can access the weight and bias tensors once the network (`net`) is created with `net.hidden.weight` and `net.hidden.bias`.\n",
    "\n",
    "```python\n",
    "self.output = nn.Linear(256, 10)\n",
    "```\n",
    "\n",
    "Similarly, this creates another linear transformation with 256 inputs and 10 outputs.\n",
    "\n",
    "```python\n",
    "self.sigmoid = nn.Sigmoid()\n",
    "self.softmax = nn.Softmax(dim=1)\n",
    "```\n",
    "\n",
    "Here I defined operations for the sigmoid activation and softmax output. Setting `dim=1` in `nn.Softmax(dim=1)` calculates softmax across the columns.\n",
    "\n",
    "```python\n",
    "def forward(self, x):\n",
    "```\n",
    "\n",
    "PyTorch networks created with `nn.Module` must have a `forward` method defined. It takes in a tensor `x` and passes it through the operations you defined in the `__init__` method.\n",
    "\n",
    "```python\n",
    "x = self.hidden(x)\n",
    "x = self.sigmoid(x)\n",
    "x = self.output(x)\n",
    "x = self.softmax(x)\n",
    "```\n",
    "\n",
    "Here the input tensor `x` is passed through each operation a reassigned to `x`. We can see that the input tensor goes through the hidden layer, then a sigmoid function, then the output layer, and finally the softmax function. It doesn't matter what you name the variables here, as long as the inputs and outputs of the operations match the network architecture you want to build. The order in which you define things in the `__init__` method doesn't matter, but you'll need to sequence the operations correctly in the `forward` method.\n",
    "\n",
    "Now we can create a `Network` object."
   ]
  },
  {
   "cell_type": "code",
   "execution_count": 9,
   "metadata": {},
   "outputs": [
    {
     "data": {
      "text/plain": [
       "Network(\n",
       "  (hidden): Linear(in_features=784, out_features=256, bias=True)\n",
       "  (output): Linear(in_features=256, out_features=10, bias=True)\n",
       "  (sigmoid): Sigmoid()\n",
       "  (softmax): Softmax()\n",
       ")"
      ]
     },
     "execution_count": 9,
     "metadata": {},
     "output_type": "execute_result"
    }
   ],
   "source": [
    "# Create the network and look at it's text representation\n",
    "model = Network()\n",
    "model"
   ]
  },
  {
   "cell_type": "markdown",
   "metadata": {},
   "source": [
    "You can define the network somewhat more concisely and clearly using the `torch.nn.functional` module. This is the most common way you'll see networks defined as many operations are simple element-wise functions. We normally import this module as `F`, `import torch.nn.functional as F`."
   ]
  },
  {
   "cell_type": "code",
   "execution_count": 10,
   "metadata": {
    "collapsed": true
   },
   "outputs": [],
   "source": [
    "import torch.nn.functional as F\n",
    "\n",
    "class Network(nn.Module):\n",
    "    def __init__(self):\n",
    "        super().__init__()\n",
    "        # Inputs to hidden layer linear transformation\n",
    "        self.hidden = nn.Linear(784, 256)\n",
    "        # Output layer, 10 units - one for each digit\n",
    "        self.output = nn.Linear(256, 10)\n",
    "        \n",
    "    def forward(self, x):\n",
    "        # Hidden layer with sigmoid activation\n",
    "        x = F.sigmoid(self.hidden(x))\n",
    "        # Output layer with softmax activation\n",
    "        x = F.softmax(self.output(x), dim=1)\n",
    "        \n",
    "        return x"
   ]
  },
  {
   "cell_type": "markdown",
   "metadata": {},
   "source": [
    "### Activation functions\n",
    "\n",
    "So far we've only been looking at the softmax activation, but in general any function can be used as an activation function. The only requirement is that for a network to approximate a non-linear function, the activation functions must be non-linear. Here are a few more examples of common activation functions: Tanh (hyperbolic tangent), and ReLU (rectified linear unit).\n",
    "\n",
    "<img src=\"assets/activation.png\" width=700px>\n",
    "\n",
    "In practice, the ReLU function is used almost exclusively as the activation function for hidden layers."
   ]
  },
  {
   "cell_type": "markdown",
   "metadata": {},
   "source": [
    "### Your Turn to Build a Network\n",
    "\n",
    "<img src=\"assets/mlp_mnist.png\" width=600px>\n",
    "\n",
    "> **Exercise:** Create a network with 784 input units, a hidden layer with 128 units and a ReLU activation, then a hidden layer with 64 units and a ReLU activation, and finally an output layer with a softmax activation as shown above. You can use a ReLU activation with the `nn.ReLU` module or `F.relu` function.\n",
    "\n",
    "It's good practice to name your layers by their type of network, for instance 'fc' to represent a fully-connected layer. As you code your solution, use `fc1`, `fc2`, and `fc3` as your layer names."
   ]
  },
  {
   "cell_type": "code",
   "execution_count": 11,
   "metadata": {
    "scrolled": true
   },
   "outputs": [
    {
     "data": {
      "text/plain": [
       "Network(\n",
       "  (fc1): Linear(in_features=784, out_features=128, bias=True)\n",
       "  (fc2): Linear(in_features=128, out_features=64, bias=True)\n",
       "  (fc3): Linear(in_features=64, out_features=10, bias=True)\n",
       ")"
      ]
     },
     "execution_count": 11,
     "metadata": {},
     "output_type": "execute_result"
    }
   ],
   "source": [
    "## Solution\n",
    "\n",
    "class Network(nn.Module):\n",
    "    def __init__(self):\n",
    "        super().__init__()\n",
    "        # Defining the layers, 128, 64, 10 units each\n",
    "        self.fc1 = nn.Linear(784, 128)\n",
    "        self.fc2 = nn.Linear(128, 64)\n",
    "        # Output layer, 10 units - one for each digit\n",
    "        self.fc3 = nn.Linear(64, 10)\n",
    "        \n",
    "    def forward(self, x):\n",
    "        ''' Forward pass through the network, returns the output logits '''\n",
    "        \n",
    "        x = self.fc1(x)\n",
    "        x = F.relu(x)\n",
    "        x = self.fc2(x)\n",
    "        x = F.relu(x)\n",
    "        x = self.fc3(x)\n",
    "        x = F.softmax(x, dim=1)\n",
    "        \n",
    "        return x\n",
    "\n",
    "model = Network()\n",
    "model"
   ]
  },
  {
   "cell_type": "markdown",
   "metadata": {},
   "source": [
    "### Initializing weights and biases\n",
    "\n",
    "The weights and such are automatically initialized for you, but it's possible to customize how they are initialized. The weights and biases are tensors attached to the layer you defined, you can get them with `model.fc1.weight` for instance."
   ]
  },
  {
   "cell_type": "code",
   "execution_count": 12,
   "metadata": {},
   "outputs": [
    {
     "name": "stdout",
     "output_type": "stream",
     "text": [
      "Parameter containing:\n",
      "tensor([[-2.3278e-02, -1.2170e-03, -1.1882e-02,  ...,  3.3567e-02,\n",
      "          4.4827e-03,  1.4840e-02],\n",
      "        [ 4.8464e-03,  1.9844e-02,  3.9791e-03,  ..., -2.6048e-02,\n",
      "         -3.5558e-02, -2.2386e-02],\n",
      "        [-1.9664e-02,  8.1722e-03,  2.6729e-02,  ..., -1.5122e-02,\n",
      "          2.7632e-02, -1.9567e-02],\n",
      "        ...,\n",
      "        [-3.3571e-02, -2.9686e-02, -2.1387e-02,  ...,  3.0770e-02,\n",
      "          1.0800e-02, -6.5941e-03],\n",
      "        [ 2.9749e-02,  1.2849e-02,  2.7320e-02,  ..., -1.9899e-02,\n",
      "          2.7131e-02,  2.2082e-02],\n",
      "        [ 1.3992e-02, -2.1520e-02,  3.1907e-02,  ...,  2.2435e-02,\n",
      "          1.1370e-02,  2.1568e-02]])\n",
      "Parameter containing:\n",
      "tensor(1.00000e-02 *\n",
      "       [-1.3222,  2.4094, -2.1571,  3.2237,  2.5302, -1.1515,  2.6382,\n",
      "        -2.3426, -3.5689, -1.0724, -2.8842, -2.9667, -0.5022,  1.1381,\n",
      "         1.2849,  3.0731, -2.0207, -2.3282,  0.3168, -2.8098, -1.0740,\n",
      "        -1.8273,  1.8692,  2.9404,  0.1783,  0.9391, -0.7085, -1.2522,\n",
      "        -2.7769,  0.0916, -1.4283, -0.3267, -1.6876, -1.8580, -2.8724,\n",
      "        -3.5512,  3.2155,  1.5532,  0.8836, -1.2911,  1.5735, -3.0478,\n",
      "        -1.3089, -2.2117,  1.5162, -0.8055, -1.3307, -2.4267, -1.2665,\n",
      "         0.8666, -2.2325, -0.4797, -0.5448, -0.6612, -0.6022,  2.6399,\n",
      "         1.4673, -1.5417, -2.9492, -2.7507,  0.6157, -0.0681, -0.8171,\n",
      "        -0.3554, -0.8225,  3.3906,  3.3509, -1.4484,  3.5124, -2.6519,\n",
      "         0.9721, -2.5068, -3.4962,  3.4743,  1.1525, -2.7555, -3.1673,\n",
      "         2.2906,  2.5914,  1.5992, -1.2859, -0.5682,  2.1488, -2.0631,\n",
      "         2.6281, -2.4639,  2.2622,  2.3632, -0.1979,  0.7160,  1.7594,\n",
      "         0.0761, -2.8886, -3.5467,  2.7691,  0.8280, -2.2398, -1.4602,\n",
      "        -1.3475, -1.4738,  0.6338,  3.2811, -3.0628,  2.7044,  1.2775,\n",
      "         2.8856, -3.3938,  2.7056,  0.5826, -0.6286,  1.2381,  0.7316,\n",
      "        -2.4725, -1.2958, -3.1543, -0.8584,  0.5517,  2.8176,  0.0947,\n",
      "        -1.6849, -1.4968,  3.1039,  1.7680,  1.1803, -1.4402,  2.5710,\n",
      "        -3.3057,  1.9027])\n"
     ]
    }
   ],
   "source": [
    "print(model.fc1.weight)\n",
    "print(model.fc1.bias)"
   ]
  },
  {
   "cell_type": "markdown",
   "metadata": {},
   "source": [
    "For custom initialization, we want to modify these tensors in place. These are actually autograd *Variables*, so we need to get back the actual tensors with `model.fc1.weight.data`. Once we have the tensors, we can fill them with zeros (for biases) or random normal values."
   ]
  },
  {
   "cell_type": "code",
   "execution_count": 13,
   "metadata": {},
   "outputs": [
    {
     "data": {
      "text/plain": [
       "tensor([ 0.,  0.,  0.,  0.,  0.,  0.,  0.,  0.,  0.,  0.,  0.,  0.,\n",
       "         0.,  0.,  0.,  0.,  0.,  0.,  0.,  0.,  0.,  0.,  0.,  0.,\n",
       "         0.,  0.,  0.,  0.,  0.,  0.,  0.,  0.,  0.,  0.,  0.,  0.,\n",
       "         0.,  0.,  0.,  0.,  0.,  0.,  0.,  0.,  0.,  0.,  0.,  0.,\n",
       "         0.,  0.,  0.,  0.,  0.,  0.,  0.,  0.,  0.,  0.,  0.,  0.,\n",
       "         0.,  0.,  0.,  0.,  0.,  0.,  0.,  0.,  0.,  0.,  0.,  0.,\n",
       "         0.,  0.,  0.,  0.,  0.,  0.,  0.,  0.,  0.,  0.,  0.,  0.,\n",
       "         0.,  0.,  0.,  0.,  0.,  0.,  0.,  0.,  0.,  0.,  0.,  0.,\n",
       "         0.,  0.,  0.,  0.,  0.,  0.,  0.,  0.,  0.,  0.,  0.,  0.,\n",
       "         0.,  0.,  0.,  0.,  0.,  0.,  0.,  0.,  0.,  0.,  0.,  0.,\n",
       "         0.,  0.,  0.,  0.,  0.,  0.,  0.,  0.])"
      ]
     },
     "execution_count": 13,
     "metadata": {},
     "output_type": "execute_result"
    }
   ],
   "source": [
    "# Set biases to all zeros\n",
    "model.fc1.bias.data.fill_(0)"
   ]
  },
  {
   "cell_type": "code",
   "execution_count": 14,
   "metadata": {},
   "outputs": [
    {
     "data": {
      "text/plain": [
       "tensor([[ 5.9294e-03,  9.6176e-04,  9.5034e-03,  ..., -1.2588e-03,\n",
       "          3.4878e-03,  1.4495e-02],\n",
       "        [-9.3127e-04, -1.0287e-02,  3.5423e-03,  ...,  1.1155e-02,\n",
       "          2.5012e-03,  1.3503e-02],\n",
       "        [-1.5078e-02,  8.1119e-03,  5.0678e-03,  ...,  2.8613e-03,\n",
       "          9.7443e-03, -6.5530e-03],\n",
       "        ...,\n",
       "        [-2.2938e-03, -1.8630e-02, -4.2459e-03,  ...,  1.4718e-02,\n",
       "          2.7655e-03,  3.2661e-03],\n",
       "        [-3.0470e-03,  1.2617e-02, -7.9772e-03,  ..., -1.4699e-02,\n",
       "         -9.1425e-03,  5.3492e-03],\n",
       "        [ 2.5911e-03,  2.4797e-03, -6.1172e-03,  ...,  1.0584e-02,\n",
       "         -1.0307e-02, -3.1901e-03]])"
      ]
     },
     "execution_count": 14,
     "metadata": {},
     "output_type": "execute_result"
    }
   ],
   "source": [
    "# sample from random normal with standard dev = 0.01\n",
    "model.fc1.weight.data.normal_(std=0.01)"
   ]
  },
  {
   "cell_type": "markdown",
   "metadata": {},
   "source": [
    "### Forward pass\n",
    "\n",
    "Now that we have a network, let's see what happens when we pass in an image."
   ]
  },
  {
   "cell_type": "code",
   "execution_count": 15,
   "metadata": {},
   "outputs": [
    {
     "data": {
      "image/png": "[encoded data removed]",
      "text/plain": [
       "<Figure size 432x648 with 2 Axes>"
      ]
     },
     "metadata": {
      "image/png": {
       "height": 226,
       "width": 423
      },
      "needs_background": "light"
     },
     "output_type": "display_data"
    }
   ],
   "source": [
    "# Grab some data \n",
    "dataiter = iter(trainloader)\n",
    "images, labels = dataiter.next()\n",
    "\n",
    "# Resize images into a 1D vector, new shape is (batch size, color channels, image pixels) \n",
    "images.resize_(64, 1, 784)\n",
    "# or images.resize_(images.shape[0], 1, 784) to automatically get batch size\n",
    "\n",
    "# Forward pass through the network\n",
    "img_idx = 0\n",
    "ps = model.forward(images[img_idx,:])\n",
    "\n",
    "img = images[img_idx]\n",
    "helper.view_classify(img.view(1, 28, 28), ps)"
   ]
  },
  {
   "cell_type": "markdown",
   "metadata": {},
   "source": [
    "As you can see above, our network has basically no idea what this digit is. It's because we haven't trained it yet, all the weights are random!\n",
    "\n",
    "### Using `nn.Sequential`\n",
    "\n",
    "PyTorch provides a convenient way to build networks like this where a tensor is passed sequentially through operations, `nn.Sequential` ([documentation](https://pytorch.org/docs/master/nn.html#torch.nn.Sequential)). Using this to build the equivalent network:"
   ]
  },
  {
   "cell_type": "code",
   "execution_count": 16,
   "metadata": {},
   "outputs": [
    {
     "name": "stdout",
     "output_type": "stream",
     "text": [
      "Sequential(\n",
      "  (0): Linear(in_features=784, out_features=128, bias=True)\n",
      "  (1): ReLU()\n",
      "  (2): Linear(in_features=128, out_features=64, bias=True)\n",
      "  (3): ReLU()\n",
      "  (4): Linear(in_features=64, out_features=10, bias=True)\n",
      "  (5): Softmax()\n",
      ")\n"
     ]
    },
    {
     "data": {
      "image/png": "[encoded data removed]",
      "text/plain": [
       "<Figure size 432x648 with 2 Axes>"
      ]
     },
     "metadata": {
      "image/png": {
       "height": 226,
       "width": 423
      },
      "needs_background": "light"
     },
     "output_type": "display_data"
    }
   ],
   "source": [
    "# Hyperparameters for our network\n",
    "input_size = 784\n",
    "hidden_sizes = [128, 64]\n",
    "output_size = 10\n",
    "\n",
    "# Build a feed-forward network\n",
    "model = nn.Sequential(nn.Linear(input_size, hidden_sizes[0]),\n",
    "                      nn.ReLU(),\n",
    "                      nn.Linear(hidden_sizes[0], hidden_sizes[1]),\n",
    "                      nn.ReLU(),\n",
    "                      nn.Linear(hidden_sizes[1], output_size),\n",
    "                      nn.Softmax(dim=1))\n",
    "print(model)\n",
    "\n",
    "# Forward pass through the network and display output\n",
    "images, labels = next(iter(trainloader))\n",
    "images.resize_(images.shape[0], 1, 784)\n",
    "ps = model.forward(images[0,:])\n",
    "helper.view_classify(images[0].view(1, 28, 28), ps)"
   ]
  },
  {
   "cell_type": "markdown",
   "metadata": {},
   "source": [
    "The operations are availble by passing in the appropriate index. For example, if you want to get first Linear operation and look at the weights, you'd use `model[0]`."
   ]
  },
  {
   "cell_type": "code",
   "execution_count": 17,
   "metadata": {},
   "outputs": [
    {
     "name": "stdout",
     "output_type": "stream",
     "text": [
      "Linear(in_features=784, out_features=128, bias=True)\n"
     ]
    },
    {
     "data": {
      "text/plain": [
       "Parameter containing:\n",
       "tensor([[-7.0372e-03,  2.9689e-02,  2.6028e-02,  ...,  1.1196e-02,\n",
       "         -2.1928e-02, -3.4886e-02],\n",
       "        [ 1.0624e-04, -1.6610e-02, -2.2891e-02,  ..., -6.4412e-03,\n",
       "         -2.5026e-02,  1.0674e-02],\n",
       "        [-2.4707e-02,  1.4146e-02,  2.0084e-02,  ...,  1.2227e-02,\n",
       "          2.3441e-02, -9.5175e-03],\n",
       "        ...,\n",
       "        [-2.0119e-02,  7.2614e-03, -1.3481e-02,  ...,  8.1745e-03,\n",
       "         -1.3348e-02, -1.1955e-02],\n",
       "        [ 3.2282e-02,  1.8674e-02, -3.0826e-02,  ...,  1.7296e-02,\n",
       "         -2.6710e-02, -3.0684e-02],\n",
       "        [ 1.7686e-02,  3.1376e-02, -2.2645e-02,  ...,  2.4630e-02,\n",
       "          3.1129e-02,  7.0939e-03]])"
      ]
     },
     "execution_count": 17,
     "metadata": {},
     "output_type": "execute_result"
    }
   ],
   "source": [
    "print(model[0])\n",
    "model[0].weight"
   ]
  },
  {
   "cell_type": "markdown",
   "metadata": {},
   "source": [
    "You can also pass in an `OrderedDict` to name the individual layers and operations, instead of using incremental integers. Note that dictionary keys must be unique, so _each operation must have a different name_."
   ]
  },
  {
   "cell_type": "code",
   "execution_count": 18,
   "metadata": {},
   "outputs": [
    {
     "data": {
      "text/plain": [
       "Sequential(\n",
       "  (fc1): Linear(in_features=784, out_features=128, bias=True)\n",
       "  (relu1): ReLU()\n",
       "  (fc2): Linear(in_features=128, out_features=64, bias=True)\n",
       "  (relu2): ReLU()\n",
       "  (output): Linear(in_features=64, out_features=10, bias=True)\n",
       "  (softmax): Softmax()\n",
       ")"
      ]
     },
     "execution_count": 18,
     "metadata": {},
     "output_type": "execute_result"
    }
   ],
   "source": [
    "from collections import OrderedDict\n",
    "model = nn.Sequential(OrderedDict([\n",
    "                      ('fc1', nn.Linear(input_size, hidden_sizes[0])),\n",
    "                      ('relu1', nn.ReLU()),\n",
    "                      ('fc2', nn.Linear(hidden_sizes[0], hidden_sizes[1])),\n",
    "                      ('relu2', nn.ReLU()),\n",
    "                      ('output', nn.Linear(hidden_sizes[1], output_size)),\n",
    "                      ('softmax', nn.Softmax(dim=1))]))\n",
    "model"
   ]
  },
  {
   "cell_type": "markdown",
   "metadata": {},
   "source": [
    "Now you can access layers either by integer or the name"
   ]
  },
  {
   "cell_type": "code",
   "execution_count": 19,
   "metadata": {},
   "outputs": [
    {
     "name": "stdout",
     "output_type": "stream",
     "text": [
      "Linear(in_features=784, out_features=128, bias=True)\n",
      "Linear(in_features=784, out_features=128, bias=True)\n"
     ]
    }
   ],
   "source": [
    "print(model[0])\n",
    "print(model.fc1)"
   ]
  },
  {
   "cell_type": "markdown",
   "metadata": {},
   "source": [
    "In the next notebook, we'll see how we can train a neural network to accuractly predict the numbers appearing in the MNIST images."
   ]
  }
 ],
 "metadata": {
  "kernelspec": {
   "display_name": "Python 3",
   "language": "python",
   "name": "python3"
  },
  "language_info": {
   "codemirror_mode": {
    "name": "ipython",
    "version": 3
   },
   "file_extension": ".py",
   "mimetype": "text/x-python",
   "name": "python",
   "nbconvert_exporter": "python",
   "pygments_lexer": "ipython3",
   "version": "3.7.4"
  }
 },
 "nbformat": 4,
 "nbformat_minor": 2
}
