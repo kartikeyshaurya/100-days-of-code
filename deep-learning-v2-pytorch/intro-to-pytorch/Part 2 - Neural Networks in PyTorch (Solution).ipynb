{
 "cells": [
  {
   "cell_type": "markdown",
   "metadata": {},
   "source": [
    "# Neural networks with PyTorch\n",
    "\n",
    "Deep learning networks tend to be massive with dozens or hundreds of layers, that's where the term \"deep\" comes from. You can build one of these deep networks using only weight matrices as we did in the previous notebook, but in general it's very cumbersome and difficult to implement. PyTorch has a nice module `nn` that provides a nice way to efficiently build large neural networks."
   ]
  },
  {
   "cell_type": "code",
   "execution_count": 2,
   "metadata": {},
   "outputs": [],
   "source": [
    "# Import necessary packages\n",
    "\n",
    "%matplotlib inline\n",
    "%config InlineBackend.figure_format = 'retina'\n",
    "\n",
    "import numpy as np\n",
    "import torch\n",
    "\n",
    "import helper\n",
    "\n",
    "import matplotlib.pyplot as plt"
   ]
  },
  {
   "cell_type": "markdown",
   "metadata": {},
   "source": [
    "\n",
    "Now we're going to build a larger network that can solve a (formerly) difficult problem, identifying text in an image. Here we'll use the MNIST dataset which consists of greyscale handwritten digits. Each image is 28x28 pixels, you can see a sample below\n",
    "\n",
    "<img src='assets/mnist.png'>\n",
    "\n",
    "Our goal is to build a neural network that can take one of these images and predict the digit in the image.\n",
    "\n",
    "First up, we need to get our dataset. This is provided through the `torchvision` package. The code below will download the MNIST dataset, then create training and test datasets for us. Don't worry too much about the details here, you'll learn more about this later."
   ]
  },
  {
   "cell_type": "code",
   "execution_count": 3,
   "metadata": {},
   "outputs": [],
   "source": [
    "### Run this cell\n",
    "\n",
    "from torchvision import datasets, transforms\n",
    "\n",
    "# Define a transform to normalize the data\n",
    "transform = transforms.Compose([transforms.ToTensor(),\n",
    "                              transforms.Normalize((0.5,), (0.5,)),\n",
    "                              ])\n",
    "# Download and load the training data\n",
    "trainset = datasets.MNIST('~/.pytorch/MNIST_data/', download=True, train=True, transform=transform)\n",
    "trainloader = torch.utils.data.DataLoader(trainset, batch_size=64, shuffle=True)"
   ]
  },
  {
   "cell_type": "markdown",
   "metadata": {},
   "source": [
    "We have the training data loaded into `trainloader` and we make that an iterator with `iter(trainloader)`. Later, we'll use this to loop through the dataset for training, like\n",
    "\n",
    "```python\n",
    "for image, label in trainloader:\n",
    "    ## do things with images and labels\n",
    "```\n",
    "\n",
    "You'll notice I created the `trainloader` with a batch size of 64, and `shuffle=True`. The batch size is the number of images we get in one iteration from the data loader and pass through our network, often called a *batch*. And `shuffle=True` tells it to shuffle the dataset every time we start going through the data loader again. But here I'm just grabbing the first batch so we can check out the data. We can see below that `images` is just a tensor with size `(64, 1, 28, 28)`. So, 64 images per batch, 1 color channel, and 28x28 images."
   ]
  },
  {
   "cell_type": "code",
   "execution_count": 4,
   "metadata": {},
   "outputs": [
    {
     "name": "stdout",
     "output_type": "stream",
     "text": [
      "<class 'torch.Tensor'>\n",
      "torch.Size([64, 1, 28, 28])\n",
      "torch.Size([64])\n"
     ]
    }
   ],
   "source": [
    "dataiter = iter(trainloader)\n",
    "images, labels = dataiter.next()\n",
    "print(type(images))\n",
    "print(images.shape)\n",
    "print(labels.shape)"
   ]
  },
  {
   "cell_type": "markdown",
   "metadata": {},
   "source": [
    "This is what one of the images looks like. "
   ]
  },
  {
   "cell_type": "code",
   "execution_count": 5,
   "metadata": {},
   "outputs": [
    {
     "data": {
      "image/png": "[encoded data removed]",
      "text/plain": [
       "<Figure size 432x288 with 1 Axes>"
      ]
     },
     "metadata": {
      "image/png": {
       "height": 248,
       "width": 251
      },
      "needs_background": "light"
     },
     "output_type": "display_data"
    }
   ],
   "source": [
    "plt.imshow(images[1].numpy().squeeze(), cmap='Greys_r');"
   ]
  },
  {
   "cell_type": "markdown",
   "metadata": {},
   "source": [
    "First, let's try to build a simple network for this dataset using weight matrices and matrix multiplications. Then, we'll see how to do it using PyTorch's `nn` module which provides a much more convenient and powerful method for defining network architectures.\n",
    "\n",
    "The networks you've seen so far are called *fully-connected* or *dense* networks. Each unit in one layer is connected to each unit in the next layer. In fully-connected networks, the input to each layer must be a one-dimensional vector (which can be stacked into a 2D tensor as a batch of multiple examples). However, our images are 28x28 2D tensors, so we need to convert them into 1D vectors. Thinking about sizes, we need to convert the batch of images with shape `(64, 1, 28, 28)` to a have a shape of `(64, 784)`, 784 is 28 times 28. This is typically called *flattening*, we flattened the 2D images into 1D vectors.\n",
    "\n",
    "Previously you built a network with one output unit. Here we need 10 output units, one for each digit. We want our network to predict the digit shown in an image, so what we'll do is calculate probabilities that the image is of any one digit or class. This ends up being a discrete probability distribution over the classes (digits) that tells us the most likely class for the image. That means we need 10 output units for the 10 classes (digits). We'll see how to convert the network output into a probability distribution next.\n",
    "\n",
    "> **Exercise:** Flatten the batch of images `images`. Then build a multi-layer network with 784 input units, 256 hidden units, and 10 output units using random tensors for the weights and biases. For now, use a sigmoid activation for the hidden layer. Leave the output layer without an activation, we'll add one that gives us a probability distribution next."
   ]
  },
  {
   "cell_type": "code",
   "execution_count": 6,
   "metadata": {},
   "outputs": [
    {
     "data": {
      "text/plain": [
       "tensor([[-4.2213e+00,  1.2420e-01, -1.9996e+01,  9.2500e+00,  1.3039e+01,\n",
       "         -4.7617e+00,  4.5124e+00,  2.5996e+00, -5.7609e+00, -1.0448e+01],\n",
       "        [ 2.1389e+00, -4.5758e+00, -1.0067e+01,  1.4894e+01,  9.1418e+00,\n",
       "         -9.2605e+00,  9.1311e+00,  2.8370e+01, -6.9683e+00, -1.8786e+01],\n",
       "        [-1.0661e+01, -7.8934e+00, -7.6195e+00,  1.2921e+01,  1.8374e+01,\n",
       "         -1.5956e+01, -1.2177e+00,  8.7214e+00, -2.7918e+00, -1.3118e+01],\n",
       "        [ 3.8028e-01, -1.1161e+01, -5.4562e+00,  1.0848e+01,  2.2120e+01,\n",
       "         -6.0887e+00,  9.0580e+00,  1.9968e+01, -3.6584e+00, -1.2103e+01],\n",
       "        [-4.7411e+00, -8.2003e+00, -1.2269e+01,  1.0060e+01,  1.5489e+01,\n",
       "         -6.9371e+00,  7.5806e+00,  1.7429e+01, -5.9636e+00, -2.5424e+01],\n",
       "        [-4.4973e+00,  2.8089e+00, -2.0087e+01,  1.2909e+01,  1.9085e+01,\n",
       "         -1.2852e+01,  2.3646e+00,  1.1920e+01, -5.2714e-01, -1.6340e+01],\n",
       "        [ 2.5451e+00,  1.9129e-01, -7.3477e+00,  3.8695e+00,  2.1736e+01,\n",
       "         -1.7515e+01,  1.6271e+01,  1.0398e+01, -3.7125e+00, -7.7627e+00],\n",
       "        [ 3.0016e+00, -1.8241e+00, -9.6730e+00,  7.8562e+00,  2.0906e+01,\n",
       "         -1.5766e+01,  2.6318e-01,  1.2515e+01, -2.5531e+00, -1.9245e+01],\n",
       "        [-2.8562e+00, -1.4944e+01, -6.8139e+00,  1.1220e+01,  2.2426e+01,\n",
       "         -1.1778e+01,  1.0874e+01,  1.0646e+01, -3.1298e+00, -2.1475e+01],\n",
       "        [-1.3708e+01, -1.9748e+00, -1.4745e+01,  1.0705e+01,  1.6666e+01,\n",
       "         -9.0189e+00,  7.6453e+00,  6.7415e+00,  6.4160e-01, -1.9007e+01],\n",
       "        [-1.4039e+01, -5.1067e+00, -1.7794e+01,  2.0469e+01,  2.1032e+01,\n",
       "         -1.1596e+01,  1.8988e+00,  1.2461e+01, -6.4976e-01, -1.6662e+01],\n",
       "        [-1.4295e+00,  7.6318e+00, -9.2654e+00,  1.3714e+01,  1.5475e+01,\n",
       "         -2.3115e+00,  2.5602e+00,  1.4934e+01, -1.2530e+01, -2.9978e+00],\n",
       "        [-1.1451e+01,  4.6634e-02, -1.5712e+01,  1.0222e+01,  1.3464e+01,\n",
       "         -9.9765e+00, -1.1496e+00,  1.3560e+01, -1.0863e+01, -4.4979e+00],\n",
       "        [-1.4863e-01,  4.7083e+00, -1.7053e+00,  1.2835e+01,  2.1139e+01,\n",
       "         -8.4535e+00,  7.6266e+00,  1.5123e+01, -9.6887e+00, -1.8492e+01],\n",
       "        [-2.8812e+00, -1.1628e+01, -1.3094e+01,  1.3890e+01,  1.7255e+01,\n",
       "         -1.0079e+01,  4.2201e+00,  9.5713e+00, -3.2118e+00, -2.3127e+01],\n",
       "        [-2.1158e+00, -1.8772e+00, -1.0059e+01,  8.9881e+00,  1.7001e+01,\n",
       "         -6.7789e+00,  1.2211e+01,  2.1340e+01, -4.6538e+00, -2.4537e+01],\n",
       "        [-7.7462e+00, -2.2823e+00, -1.8863e+01,  1.4008e+01,  1.7396e+01,\n",
       "         -1.8869e+01,  7.7675e+00,  1.3171e+01, -1.2004e+01, -1.0467e+01],\n",
       "        [-5.9547e+00,  6.5743e-01, -1.4264e+01,  7.0327e+00,  2.1149e+01,\n",
       "         -5.4111e+00,  1.1791e+01,  4.0231e+00,  1.7358e-02, -1.9346e+01],\n",
       "        [-4.1663e-01, -4.9259e+00, -1.8218e+01,  9.2423e+00,  2.0346e+01,\n",
       "         -1.1882e+01,  1.6629e+01,  1.7333e+01, -3.4085e+00, -1.8525e+01],\n",
       "        [-6.3166e-01,  3.1336e+00, -7.6986e+00,  1.1621e+01,  1.6358e+01,\n",
       "         -1.7219e+01,  1.5233e+01,  1.4955e+01, -5.2034e+00, -1.5732e+01],\n",
       "        [-4.6634e+00,  1.2812e+00, -1.8596e+01,  4.6762e+00,  2.0953e+01,\n",
       "         -1.0145e+01,  5.8576e+00,  1.4922e+01, -6.6621e+00, -6.8313e+00],\n",
       "        [ 9.9383e-01, -5.9201e-01, -1.3495e+01,  1.1254e+01,  1.2649e+01,\n",
       "         -8.5048e+00,  5.3084e+00,  1.1652e+01, -8.9681e+00, -1.0986e+01],\n",
       "        [ 2.9686e-01, -2.0756e+00, -1.1210e+01,  1.7299e+01,  1.7968e+01,\n",
       "         -1.0064e+01, -2.7907e-02,  1.4278e+01, -6.6969e+00, -1.0000e+01],\n",
       "        [-1.1185e+01,  4.0185e+00, -2.7446e+00,  1.2597e+01,  1.5474e+01,\n",
       "         -6.9546e+00,  6.9744e+00,  5.4995e+00, -1.1937e+01, -7.8947e+00],\n",
       "        [-4.0171e-03,  6.0678e+00, -1.3945e+01,  9.6096e+00,  1.9724e+01,\n",
       "         -1.2885e+01,  1.3662e+01,  9.7052e+00, -1.0420e+00, -8.1719e+00],\n",
       "        [-7.5623e+00,  8.2479e-01, -9.6100e+00,  1.6829e+01,  1.5126e+01,\n",
       "         -1.6036e+01, -1.6598e+00,  1.8659e+01, -5.8279e+00, -2.0007e+01],\n",
       "        [ 4.3132e-01,  5.0999e+00, -1.2995e+01,  1.0592e+01,  1.9145e+01,\n",
       "         -6.0449e+00,  4.5341e+00,  4.3432e+00, -2.8049e+00, -1.7153e+01],\n",
       "        [-1.0976e+01,  2.1489e+00, -1.5991e+01,  2.2659e+01,  1.5939e+01,\n",
       "         -7.1385e+00,  1.4765e+01,  1.2033e+01, -6.7495e+00, -8.3615e+00],\n",
       "        [-4.6228e+00, -6.5744e+00, -1.1274e+01,  8.5133e+00,  1.4121e+01,\n",
       "         -5.0149e+00,  3.5146e+00,  1.3737e+01, -2.3773e+00, -2.2907e+01],\n",
       "        [ 2.1188e+00, -1.0406e+01, -4.5113e+00,  1.6821e+01,  1.5304e+01,\n",
       "         -9.9473e+00,  1.0159e+01,  2.0861e+01, -5.4562e+00, -2.6701e+01],\n",
       "        [-1.7285e+00, -5.2177e+00, -9.8559e+00,  4.3345e+00,  2.1377e+01,\n",
       "         -1.5636e+01,  6.3568e+00,  1.2261e+01, -5.4532e+00, -1.6825e+01],\n",
       "        [-7.6363e+00, -2.0917e+00, -5.0760e+00,  1.7891e+00,  2.4247e+01,\n",
       "         -1.7328e+01,  6.9716e+00,  1.4995e+01, -1.5604e+00, -2.0819e+01],\n",
       "        [-5.8922e+00,  5.2361e+00, -1.0412e+01,  5.7806e+00,  2.1824e+01,\n",
       "         -1.2033e+01,  5.1428e+00,  1.0625e+01, -4.7595e+00, -9.1329e+00],\n",
       "        [-4.3281e+00, -3.8672e+00, -6.9623e+00,  7.7582e+00,  8.5016e+00,\n",
       "         -1.3668e+01,  8.6979e+00,  5.7726e+00, -2.2669e+00, -8.3539e+00],\n",
       "        [-6.1525e+00, -4.0106e+00, -1.0019e+01,  4.8299e+00,  7.8160e+00,\n",
       "         -1.0728e+01,  6.0828e-01,  1.5070e+01, -1.1351e+01, -1.9297e+01],\n",
       "        [-2.8347e+00,  9.9772e-01, -1.6024e+01,  7.1323e+00,  2.7545e+01,\n",
       "         -9.8363e+00,  9.2000e+00,  1.1937e+01, -1.3519e+01, -1.1308e+01],\n",
       "        [-3.5799e-01,  2.2913e+00, -9.4648e+00,  7.1645e+00,  2.0169e+01,\n",
       "         -1.0865e+01, -5.7440e-01,  1.5149e+01, -7.8407e+00, -1.6345e+01],\n",
       "        [ 1.0915e+00,  2.9309e+00, -1.6111e+01,  4.5958e+00,  1.3187e+01,\n",
       "         -6.9364e+00,  1.4193e+01,  1.4874e+01, -7.2872e+00, -1.5784e+01],\n",
       "        [-5.0222e+00, -3.5936e+00, -1.5786e+01,  7.0013e+00,  1.1642e+01,\n",
       "         -7.2476e+00,  2.9403e+00, -2.8284e+00, -1.7385e-01, -2.8256e+01],\n",
       "        [-4.1392e+00, -3.3765e+00, -6.9709e+00,  1.3706e+01,  1.9030e+01,\n",
       "         -1.1417e+01,  1.4973e+00,  1.5917e+01, -8.6177e+00, -1.1348e+01],\n",
       "        [-1.0450e+00, -1.4969e+00, -9.2988e+00,  8.6702e+00,  2.3079e+01,\n",
       "         -2.5120e+01, -1.5279e+00,  1.8759e+01, -1.3424e+01, -1.2363e+01],\n",
       "        [-2.1663e+00, -1.1592e+01, -1.3942e+01,  5.6354e+00,  1.7209e+01,\n",
       "         -5.1343e+00,  9.0306e+00,  1.2098e+01, -3.5967e+00, -1.3989e+01],\n",
       "        [-5.3618e+00,  2.1850e+00, -2.0677e+01,  1.4002e+01,  2.1651e+01,\n",
       "         -4.6888e+00, -5.0508e-01,  5.9254e+00, -2.2561e+00, -8.3173e+00],\n",
       "        [ 2.6707e+00,  7.9304e+00, -7.9597e+00,  1.2660e+01,  2.2956e+01,\n",
       "         -7.0684e+00,  1.1573e+01,  1.3783e+01, -3.1117e+00, -5.4839e+00],\n",
       "        [-2.7356e+00, -8.6864e+00, -4.4915e+00,  9.3027e+00,  1.9580e+01,\n",
       "         -1.1812e+01,  8.4905e+00,  1.0768e+01,  3.0835e-01, -1.8112e+01],\n",
       "        [-2.8007e+00, -8.5313e+00, -1.0291e+01,  1.2366e+01,  1.9714e+01,\n",
       "         -9.5098e+00,  3.6398e+00,  1.1860e+01, -3.6441e+00, -2.3712e+01],\n",
       "        [ 7.0903e+00, -1.1788e+00, -1.3331e+01,  3.1751e+00,  1.4550e+01,\n",
       "         -5.2866e+00,  3.3555e+00,  1.3362e+01,  2.3943e+00, -2.3353e+01],\n",
       "        [-1.6446e+00,  1.0116e+01, -1.6935e+01,  1.3021e+01,  2.1565e+01,\n",
       "         -8.5649e+00,  1.6030e+00,  9.1782e+00, -4.8383e+00, -5.8375e+00],\n",
       "        [-7.3313e+00,  2.2228e+00, -9.0214e+00,  1.1031e+01,  2.2475e+01,\n",
       "         -1.0843e+01,  2.1023e+00,  1.6706e+01, -1.7043e+01, -1.1426e+01],\n",
       "        [-5.1474e+00, -2.1750e+00, -1.6493e+01,  1.4502e+01,  1.5217e+01,\n",
       "         -1.3388e+01,  1.5914e+01,  6.3672e+00, -2.9941e-01, -1.0438e+01],\n",
       "        [-8.2104e-01,  3.9669e+00, -1.1605e+01,  6.1064e-01,  2.4728e+01,\n",
       "         -7.8679e+00,  7.4157e-01,  6.2232e+00, -3.6752e+00, -2.3753e+01],\n",
       "        [-4.6810e+00, -5.0023e+00, -1.1260e+01,  1.7453e+01,  2.2098e+01,\n",
       "         -1.3107e+01,  8.7774e+00,  8.9701e+00, -5.4856e+00, -1.1565e+01],\n",
       "        [ 4.7677e+00,  4.7820e+00, -9.9926e+00,  2.7172e+00,  2.1234e+01,\n",
       "         -7.2222e+00,  1.1215e+01,  2.0873e+01, -6.0146e+00, -1.6721e+01],\n",
       "        [-4.3413e+00, -6.7386e+00, -1.1981e+01,  5.5021e-01,  1.8958e+01,\n",
       "         -6.3043e+00,  1.2640e+01,  9.0806e+00, -1.7747e+00, -5.2559e+00],\n",
       "        [-9.6883e+00,  4.7251e-01, -1.1159e+01,  1.7182e+01,  1.4787e+01,\n",
       "         -1.2943e+01,  3.2477e+00,  1.5622e+01, -4.6148e+00, -1.5588e+01],\n",
       "        [-6.0656e+00, -1.0362e+01, -1.0078e+01,  8.0100e+00,  2.1214e+01,\n",
       "         -4.7971e+00,  6.6456e+00,  1.4343e+01, -7.4177e+00, -1.5160e+01],\n",
       "        [-6.9335e+00,  3.3828e+00, -1.5378e+01,  2.0626e+01,  7.7841e+00,\n",
       "         -5.2917e+00,  5.4130e+00,  1.1460e+01, -1.0423e+01, -1.3433e+01],\n",
       "        [-5.4946e+00,  2.6892e+00, -1.4144e+01,  1.3406e+01,  1.5549e+01,\n",
       "         -5.7339e+00,  2.5673e+00,  1.2874e+01, -1.1638e+01, -6.9739e+00],\n",
       "        [-5.8042e+00, -5.0804e+00, -7.5012e+00,  1.6853e+01,  1.2718e+01,\n",
       "         -1.1433e+01,  2.7134e+00,  7.5985e+00, -1.0297e+01, -1.5916e+01],\n",
       "        [ 2.3757e+00, -7.6932e+00, -1.0907e+01,  6.6725e+00,  1.2279e+01,\n",
       "         -1.1513e+01,  1.3190e+01,  1.3935e+01, -6.7374e+00, -1.7634e+01],\n",
       "        [ 3.9808e+00,  9.2941e+00, -7.9534e+00,  5.5439e+00,  9.7258e+00,\n",
       "         -5.8428e+00,  1.4926e+01,  1.1160e+01, -4.1328e+00, -1.5434e+01],\n",
       "        [ 5.5225e+00, -5.7904e+00, -1.8199e+01,  1.1363e+01,  1.9746e+01,\n",
       "         -1.8923e+01,  8.0284e+00,  1.3023e+01, -2.5135e+00, -1.7438e+01],\n",
       "        [ 2.1583e-01,  7.4847e-01, -1.0565e+01,  5.2651e+00,  1.9173e+01,\n",
       "         -1.4608e+01,  9.5096e+00,  9.9553e+00, -3.9497e+00, -2.3504e+01],\n",
       "        [-1.2136e+01,  3.2431e+00, -1.1221e+01,  1.2038e+01,  1.2566e+01,\n",
       "         -5.2768e+00,  6.7681e+00,  7.9256e+00, -1.0150e+01, -8.2897e+00]])"
      ]
     },
     "execution_count": 6,
     "metadata": {},
     "output_type": "execute_result"
    }
   ],
   "source": [
    "## Solution\n",
    "def activation(x):\n",
    "    return 1/(1+torch.exp(-x))\n",
    "\n",
    "# Flatten the input images\n",
    "inputs = images.view(images.shape[0], -1)\n",
    "\n",
    "# Create parameters\n",
    "w1 = torch.randn(784, 256)\n",
    "b1 = torch.randn(256)\n",
    "\n",
    "w2 = torch.randn(256, 10)\n",
    "b2 = torch.randn(10)\n",
    "\n",
    "h = activation(torch.mm(inputs, w1) + b1)\n",
    "\n",
    "out = torch.mm(h, w2) + b2\n",
    "out"
   ]
  },
  {
   "cell_type": "markdown",
   "metadata": {},
   "source": [
    "Now we have 10 outputs for our network. We want to pass in an image to our network and get out a probability distribution over the classes that tells us the likely class(es) the image belongs to. Something that looks like this:\n",
    "<img src='assets/image_distribution.png' width=500px>\n",
    "\n",
    "Here we see that the probability for each class is roughly the same. This is representing an untrained network, it hasn't seen any data yet so it just returns a uniform distribution with equal probabilities for each class.\n",
    "\n",
    "To calculate this probability distribution, we often use the [**softmax** function](https://en.wikipedia.org/wiki/Softmax_function). Mathematically this looks like\n",
    "\n",
    "$$\n",
    "\\Large \\sigma(x_i) = \\cfrac{e^{x_i}}{\\sum_k^K{e^{x_k}}}\n",
    "$$\n",
    "\n",
    "What this does is squish each input $x_i$ between 0 and 1 and normalizes the values to give you a proper probability distribution where the probabilites sum up to one.\n",
    "\n",
    "> **Exercise:** Implement a function `softmax` that performs the softmax calculation and returns probability distributions for each example in the batch. Note that you'll need to pay attention to the shapes when doing this. If you have a tensor `a` with shape `(64, 10)` and a tensor `b` with shape `(64,)`, doing `a/b` will give you an error because PyTorch will try to do the division across the columns (called broadcasting) but you'll get a size mismatch. The way to think about this is for each of the 64 examples, you only want to divide by one value, the sum in the denominator. So you need `b` to have a shape of `(64, 1)`. This way PyTorch will divide the 10 values in each row of `a` by the one value in each row of `b`. Pay attention to how you take the sum as well. You'll need to define the `dim` keyword in `torch.sum`. Setting `dim=0` takes the sum across the rows while `dim=1` takes the sum across the columns."
   ]
  },
  {
   "cell_type": "code",
   "execution_count": 7,
   "metadata": {},
   "outputs": [
    {
     "name": "stdout",
     "output_type": "stream",
     "text": [
      "torch.Size([64, 10])\n",
      "tensor([1.0000, 1.0000, 1.0000, 1.0000, 1.0000, 1.0000, 1.0000, 1.0000, 1.0000,\n",
      "        1.0000, 1.0000, 1.0000, 1.0000, 1.0000, 1.0000, 1.0000, 1.0000, 1.0000,\n",
      "        1.0000, 1.0000, 1.0000, 1.0000, 1.0000, 1.0000, 1.0000, 1.0000, 1.0000,\n",
      "        1.0000, 1.0000, 1.0000, 1.0000, 1.0000, 1.0000, 1.0000, 1.0000, 1.0000,\n",
      "        1.0000, 1.0000, 1.0000, 1.0000, 1.0000, 1.0000, 1.0000, 1.0000, 1.0000,\n",
      "        1.0000, 1.0000, 1.0000, 1.0000, 1.0000, 1.0000, 1.0000, 1.0000, 1.0000,\n",
      "        1.0000, 1.0000, 1.0000, 1.0000, 1.0000, 1.0000, 1.0000, 1.0000, 1.0000,\n",
      "        1.0000])\n"
     ]
    }
   ],
   "source": [
    "## Solution\n",
    "def softmax(x):\n",
    "    return torch.exp(x)/torch.sum(torch.exp(x), dim=1).view(-1, 1)\n",
    "\n",
    "probabilities = softmax(out)\n",
    "\n",
    "# Does it have the right shape? Should be (64, 10)\n",
    "print(probabilities.shape)\n",
    "# Does it sum to 1?\n",
    "print(probabilities.sum(dim=1))"
   ]
  },
  {
   "cell_type": "markdown",
   "metadata": {},
   "source": [
    "## Building networks with PyTorch\n",
    "\n",
    "PyTorch provides a module `nn` that makes building networks much simpler. Here I'll show you how to build the same one as above with 784 inputs, 256 hidden units, 10 output units and a softmax output."
   ]
  },
  {
   "cell_type": "code",
   "execution_count": 8,
   "metadata": {},
   "outputs": [],
   "source": [
    "from torch import nn"
   ]
  },
  {
   "cell_type": "code",
   "execution_count": 9,
   "metadata": {},
   "outputs": [],
   "source": [
    "class Network(nn.Module):\n",
    "    def __init__(self):\n",
    "        super().__init__()\n",
    "        \n",
    "        # Inputs to hidden layer linear transformation\n",
    "        self.hidden = nn.Linear(784, 256)\n",
    "        # Output layer, 10 units - one for each digit\n",
    "        self.output = nn.Linear(256, 10)\n",
    "        \n",
    "        # Define sigmoid activation and softmax output \n",
    "        self.sigmoid = nn.Sigmoid()\n",
    "        self.softmax = nn.Softmax(dim=1)\n",
    "        \n",
    "    def forward(self, x):\n",
    "        # Pass the input tensor through each of our operations\n",
    "        x = self.hidden(x)\n",
    "        x = self.sigmoid(x)\n",
    "        x = self.output(x)\n",
    "        x = self.softmax(x)\n",
    "        \n",
    "        return x"
   ]
  },
  {
   "cell_type": "markdown",
   "metadata": {},
   "source": [
    "Let's go through this bit by bit.\n",
    "\n",
    "```python\n",
    "class Network(nn.Module):\n",
    "```\n",
    "\n",
    "Here we're inheriting from `nn.Module`. Combined with `super().__init__()` this creates a class that tracks the architecture and provides a lot of useful methods and attributes. It is mandatory to inherit from `nn.Module` when you're creating a class for your network. The name of the class itself can be anything.\n",
    "\n",
    "```python\n",
    "self.hidden = nn.Linear(784, 256)\n",
    "```\n",
    "\n",
    "This line creates a module for a linear transformation, $x\\mathbf{W} + b$, with 784 inputs and 256 outputs and assigns it to `self.hidden`. The module automatically creates the weight and bias tensors which we'll use in the `forward` method. You can access the weight and bias tensors once the network (`net`) is created with `net.hidden.weight` and `net.hidden.bias`.\n",
    "\n",
    "```python\n",
    "self.output = nn.Linear(256, 10)\n",
    "```\n",
    "\n",
    "Similarly, this creates another linear transformation with 256 inputs and 10 outputs.\n",
    "\n",
    "```python\n",
    "self.sigmoid = nn.Sigmoid()\n",
    "self.softmax = nn.Softmax(dim=1)\n",
    "```\n",
    "\n",
    "Here I defined operations for the sigmoid activation and softmax output. Setting `dim=1` in `nn.Softmax(dim=1)` calculates softmax across the columns.\n",
    "\n",
    "```python\n",
    "def forward(self, x):\n",
    "```\n",
    "\n",
    "PyTorch networks created with `nn.Module` must have a `forward` method defined. It takes in a tensor `x` and passes it through the operations you defined in the `__init__` method.\n",
    "\n",
    "```python\n",
    "x = self.hidden(x)\n",
    "x = self.sigmoid(x)\n",
    "x = self.output(x)\n",
    "x = self.softmax(x)\n",
    "```\n",
    "\n",
    "Here the input tensor `x` is passed through each operation a reassigned to `x`. We can see that the input tensor goes through the hidden layer, then a sigmoid function, then the output layer, and finally the softmax function. It doesn't matter what you name the variables here, as long as the inputs and outputs of the operations match the network architecture you want to build. The order in which you define things in the `__init__` method doesn't matter, but you'll need to sequence the operations correctly in the `forward` method.\n",
    "\n",
    "Now we can create a `Network` object."
   ]
  },
  {
   "cell_type": "code",
   "execution_count": 10,
   "metadata": {},
   "outputs": [
    {
     "data": {
      "text/plain": [
       "Network(\n",
       "  (hidden): Linear(in_features=784, out_features=256, bias=True)\n",
       "  (output): Linear(in_features=256, out_features=10, bias=True)\n",
       "  (sigmoid): Sigmoid()\n",
       "  (softmax): Softmax(dim=1)\n",
       ")"
      ]
     },
     "execution_count": 10,
     "metadata": {},
     "output_type": "execute_result"
    }
   ],
   "source": [
    "# Create the network and look at it's text representation\n",
    "model = Network()\n",
    "model"
   ]
  },
  {
   "cell_type": "markdown",
   "metadata": {},
   "source": [
    "You can define the network somewhat more concisely and clearly using the `torch.nn.functional` module. This is the most common way you'll see networks defined as many operations are simple element-wise functions. We normally import this module as `F`, `import torch.nn.functional as F`."
   ]
  },
  {
   "cell_type": "code",
   "execution_count": 11,
   "metadata": {},
   "outputs": [],
   "source": [
    "import torch.nn.functional as F\n",
    "\n",
    "class Network(nn.Module):\n",
    "    def __init__(self):\n",
    "        super().__init__()\n",
    "        # Inputs to hidden layer linear transformation\n",
    "        self.hidden = nn.Linear(784, 256)\n",
    "        # Output layer, 10 units - one for each digit\n",
    "        self.output = nn.Linear(256, 10)\n",
    "        \n",
    "    def forward(self, x):\n",
    "        # Hidden layer with sigmoid activation\n",
    "        x = F.sigmoid(self.hidden(x))\n",
    "        # Output layer with softmax activation\n",
    "        x = F.softmax(self.output(x), dim=1)\n",
    "        \n",
    "        return x"
   ]
  },
  {
   "cell_type": "markdown",
   "metadata": {},
   "source": [
    "### Activation functions\n",
    "\n",
    "So far we've only been looking at the softmax activation, but in general any function can be used as an activation function. The only requirement is that for a network to approximate a non-linear function, the activation functions must be non-linear. Here are a few more examples of common activation functions: Tanh (hyperbolic tangent), and ReLU (rectified linear unit).\n",
    "\n",
    "<img src=\"assets/activation.png\" width=700px>\n",
    "\n",
    "In practice, the ReLU function is used almost exclusively as the activation function for hidden layers."
   ]
  },
  {
   "cell_type": "markdown",
   "metadata": {},
   "source": [
    "### Your Turn to Build a Network\n",
    "\n",
    "<img src=\"assets/mlp_mnist.png\" width=600px>\n",
    "\n",
    "> **Exercise:** Create a network with 784 input units, a hidden layer with 128 units and a ReLU activation, then a hidden layer with 64 units and a ReLU activation, and finally an output layer with a softmax activation as shown above. You can use a ReLU activation with the `nn.ReLU` module or `F.relu` function.\n",
    "\n",
    "It's good practice to name your layers by their type of network, for instance 'fc' to represent a fully-connected layer. As you code your solution, use `fc1`, `fc2`, and `fc3` as your layer names."
   ]
  },
  {
   "cell_type": "code",
   "execution_count": 12,
   "metadata": {
    "scrolled": true
   },
   "outputs": [
    {
     "data": {
      "text/plain": [
       "Network(\n",
       "  (fc1): Linear(in_features=784, out_features=128, bias=True)\n",
       "  (fc2): Linear(in_features=128, out_features=64, bias=True)\n",
       "  (fc3): Linear(in_features=64, out_features=10, bias=True)\n",
       ")"
      ]
     },
     "execution_count": 12,
     "metadata": {},
     "output_type": "execute_result"
    }
   ],
   "source": [
    "## Solution\n",
    "\n",
    "class Network(nn.Module):\n",
    "    def __init__(self):\n",
    "        super().__init__()\n",
    "        # Defining the layers, 128, 64, 10 units each\n",
    "        self.fc1 = nn.Linear(784, 128)\n",
    "        self.fc2 = nn.Linear(128, 64)\n",
    "        # Output layer, 10 units - one for each digit\n",
    "        self.fc3 = nn.Linear(64, 10)\n",
    "        \n",
    "    def forward(self, x):\n",
    "        ''' Forward pass through the network, returns the output logits '''\n",
    "        \n",
    "        x = self.fc1(x)\n",
    "        x = F.relu(x)\n",
    "        x = self.fc2(x)\n",
    "        x = F.relu(x)\n",
    "        x = self.fc3(x)\n",
    "        x = F.softmax(x, dim=1)\n",
    "        \n",
    "        return x\n",
    "\n",
    "model = Network()\n",
    "model"
   ]
  },
  {
   "cell_type": "markdown",
   "metadata": {},
   "source": [
    "### Initializing weights and biases\n",
    "\n",
    "The weights and such are automatically initialized for you, but it's possible to customize how they are initialized. The weights and biases are tensors attached to the layer you defined, you can get them with `model.fc1.weight` for instance."
   ]
  },
  {
   "cell_type": "code",
   "execution_count": 13,
   "metadata": {},
   "outputs": [
    {
     "name": "stdout",
     "output_type": "stream",
     "text": [
      "Parameter containing:\n",
      "tensor([[ 0.0134, -0.0330,  0.0085,  ..., -0.0152, -0.0255,  0.0107],\n",
      "        [ 0.0018, -0.0344,  0.0196,  ..., -0.0190, -0.0253,  0.0157],\n",
      "        [ 0.0170, -0.0242, -0.0125,  ...,  0.0043, -0.0230, -0.0317],\n",
      "        ...,\n",
      "        [ 0.0121,  0.0090,  0.0181,  ...,  0.0173,  0.0012, -0.0099],\n",
      "        [ 0.0039, -0.0356, -0.0355,  ...,  0.0312,  0.0170,  0.0097],\n",
      "        [-0.0199, -0.0198, -0.0264,  ..., -0.0025, -0.0217, -0.0164]],\n",
      "       requires_grad=True)\n",
      "Parameter containing:\n",
      "tensor([ 2.5148e-02, -8.0063e-03,  2.7523e-02, -1.2629e-02,  3.1562e-02,\n",
      "        -1.9157e-02,  9.4202e-03, -3.2482e-03,  2.5870e-02,  5.7892e-03,\n",
      "        -1.6358e-02,  1.7016e-02, -3.4177e-02, -2.7769e-02, -2.5830e-03,\n",
      "        -5.3907e-03,  1.3276e-02,  1.7729e-02, -2.0998e-02, -2.3991e-02,\n",
      "        -1.8748e-02,  1.6981e-02,  1.4134e-02,  1.7528e-02, -6.5997e-04,\n",
      "         3.4169e-02, -5.7993e-03,  3.3327e-02, -2.1578e-02, -1.0843e-02,\n",
      "         2.8732e-02, -4.3202e-03,  2.4553e-02, -1.7345e-02, -2.3673e-02,\n",
      "         2.1246e-02, -2.8572e-02, -5.7711e-03, -3.2920e-02, -3.0247e-03,\n",
      "         3.2463e-02,  3.2958e-02, -8.2811e-03, -1.0132e-03,  1.6839e-02,\n",
      "        -1.4205e-02, -9.6802e-03,  1.7574e-02,  2.8355e-02,  9.7570e-03,\n",
      "         3.0694e-02,  1.1785e-02,  1.7226e-02,  3.5609e-02, -2.3897e-02,\n",
      "        -3.2206e-02, -9.5067e-03,  2.3594e-03,  3.0298e-02,  1.2818e-02,\n",
      "        -3.1564e-02, -1.6329e-02, -4.9523e-03,  3.2172e-02, -2.1673e-04,\n",
      "         2.2903e-02, -1.1446e-03,  1.8413e-02,  2.1195e-02,  2.8101e-02,\n",
      "        -3.5437e-03, -9.2488e-03, -1.5169e-02,  2.7850e-04,  2.5374e-02,\n",
      "         1.0100e-02, -1.1707e-02, -4.5252e-03, -3.2755e-02, -3.0075e-03,\n",
      "        -1.8345e-02,  1.1719e-02,  2.0521e-02, -1.2271e-02,  9.4824e-03,\n",
      "         8.2259e-03,  2.1498e-02,  4.2195e-03, -4.0437e-03,  9.3670e-03,\n",
      "        -8.0889e-03, -2.4473e-02, -1.8141e-02, -8.9064e-03,  3.2746e-02,\n",
      "        -1.9813e-02, -2.4372e-02, -2.2852e-02,  1.6154e-02,  2.2351e-02,\n",
      "        -2.7705e-02,  1.5917e-02,  5.8830e-05,  1.8401e-03,  5.5457e-03,\n",
      "        -3.5656e-02, -2.3838e-02,  9.8191e-03,  3.3092e-02, -6.9979e-03,\n",
      "        -2.8932e-02,  1.4599e-02, -5.7028e-03, -2.0176e-03,  6.6853e-03,\n",
      "         1.1579e-02,  1.1107e-02,  1.1044e-04,  1.3477e-02, -3.2480e-02,\n",
      "        -2.8025e-02,  2.3336e-02, -2.4615e-02,  7.5782e-03, -1.7350e-02,\n",
      "         1.7427e-02, -3.3317e-02, -2.6871e-02], requires_grad=True)\n"
     ]
    }
   ],
   "source": [
    "print(model.fc1.weight)\n",
    "print(model.fc1.bias)"
   ]
  },
  {
   "cell_type": "markdown",
   "metadata": {},
   "source": [
    "For custom initialization, we want to modify these tensors in place. These are actually autograd *Variables*, so we need to get back the actual tensors with `model.fc1.weight.data`. Once we have the tensors, we can fill them with zeros (for biases) or random normal values."
   ]
  },
  {
   "cell_type": "code",
   "execution_count": 14,
   "metadata": {},
   "outputs": [
    {
     "data": {
      "text/plain": [
       "tensor([0., 0., 0., 0., 0., 0., 0., 0., 0., 0., 0., 0., 0., 0., 0., 0., 0., 0., 0., 0., 0., 0., 0., 0.,\n",
       "        0., 0., 0., 0., 0., 0., 0., 0., 0., 0., 0., 0., 0., 0., 0., 0., 0., 0., 0., 0., 0., 0., 0., 0.,\n",
       "        0., 0., 0., 0., 0., 0., 0., 0., 0., 0., 0., 0., 0., 0., 0., 0., 0., 0., 0., 0., 0., 0., 0., 0.,\n",
       "        0., 0., 0., 0., 0., 0., 0., 0., 0., 0., 0., 0., 0., 0., 0., 0., 0., 0., 0., 0., 0., 0., 0., 0.,\n",
       "        0., 0., 0., 0., 0., 0., 0., 0., 0., 0., 0., 0., 0., 0., 0., 0., 0., 0., 0., 0., 0., 0., 0., 0.,\n",
       "        0., 0., 0., 0., 0., 0., 0., 0.])"
      ]
     },
     "execution_count": 14,
     "metadata": {},
     "output_type": "execute_result"
    }
   ],
   "source": [
    "# Set biases to all zeros\n",
    "model.fc1.bias.data.fill_(0)"
   ]
  },
  {
   "cell_type": "code",
   "execution_count": 15,
   "metadata": {},
   "outputs": [
    {
     "data": {
      "text/plain": [
       "tensor([[-0.0065,  0.0088, -0.0032,  ..., -0.0102, -0.0060, -0.0138],\n",
       "        [ 0.0011, -0.0036, -0.0005,  ...,  0.0179, -0.0029, -0.0085],\n",
       "        [-0.0071,  0.0104, -0.0089,  ...,  0.0087,  0.0023, -0.0050],\n",
       "        ...,\n",
       "        [-0.0049, -0.0068,  0.0029,  ...,  0.0048,  0.0014, -0.0149],\n",
       "        [ 0.0087, -0.0088, -0.0019,  ..., -0.0088,  0.0052, -0.0103],\n",
       "        [-0.0100, -0.0053,  0.0015,  ...,  0.0134,  0.0015,  0.0017]])"
      ]
     },
     "execution_count": 15,
     "metadata": {},
     "output_type": "execute_result"
    }
   ],
   "source": [
    "# sample from random normal with standard dev = 0.01\n",
    "model.fc1.weight.data.normal_(std=0.01)"
   ]
  },
  {
   "cell_type": "markdown",
   "metadata": {},
   "source": [
    "### Forward pass\n",
    "\n",
    "Now that we have a network, let's see what happens when we pass in an image."
   ]
  },
  {
   "cell_type": "code",
   "execution_count": 16,
   "metadata": {},
   "outputs": [
    {
     "data": {
      "image/png": "[encoded data removed]",
      "text/plain": [
       "<Figure size 432x648 with 2 Axes>"
      ]
     },
     "metadata": {
      "image/png": {
       "height": 235,
       "width": 424
      },
      "needs_background": "light"
     },
     "output_type": "display_data"
    }
   ],
   "source": [
    "# Grab some data \n",
    "dataiter = iter(trainloader)\n",
    "images, labels = dataiter.next()\n",
    "\n",
    "# Resize images into a 1D vector, new shape is (batch size, color channels, image pixels) \n",
    "images.resize_(64, 1, 784)\n",
    "# or images.resize_(images.shape[0], 1, 784) to automatically get batch size\n",
    "\n",
    "# Forward pass through the network\n",
    "img_idx = 0\n",
    "ps = model.forward(images[img_idx,:])\n",
    "\n",
    "img = images[img_idx]\n",
    "helper.view_classify(img.view(1, 28, 28), ps)"
   ]
  },
  {
   "cell_type": "markdown",
   "metadata": {},
   "source": [
    "As you can see above, our network has basically no idea what this digit is. It's because we haven't trained it yet, all the weights are random!\n",
    "\n",
    "### Using `nn.Sequential`\n",
    "\n",
    "PyTorch provides a convenient way to build networks like this where a tensor is passed sequentially through operations, `nn.Sequential` ([documentation](https://pytorch.org/docs/master/nn.html#torch.nn.Sequential)). Using this to build the equivalent network:"
   ]
  },
  {
   "cell_type": "code",
   "execution_count": 17,
   "metadata": {},
   "outputs": [
    {
     "name": "stdout",
     "output_type": "stream",
     "text": [
      "Sequential(\n",
      "  (0): Linear(in_features=784, out_features=128, bias=True)\n",
      "  (1): ReLU()\n",
      "  (2): Linear(in_features=128, out_features=64, bias=True)\n",
      "  (3): ReLU()\n",
      "  (4): Linear(in_features=64, out_features=10, bias=True)\n",
      "  (5): Softmax(dim=1)\n",
      ")\n"
     ]
    },
    {
     "data": {
      "image/png": "[encoded data removed]",
      "text/plain": [
       "<Figure size 432x648 with 2 Axes>"
      ]
     },
     "metadata": {
      "image/png": {
       "height": 235,
       "width": 424
      },
      "needs_background": "light"
     },
     "output_type": "display_data"
    }
   ],
   "source": [
    "# Hyperparameters for our network\n",
    "input_size = 784\n",
    "hidden_sizes = [128, 64]\n",
    "output_size = 10\n",
    "\n",
    "# Build a feed-forward network\n",
    "model = nn.Sequential(nn.Linear(input_size, hidden_sizes[0]),\n",
    "                      nn.ReLU(),\n",
    "                      nn.Linear(hidden_sizes[0], hidden_sizes[1]),\n",
    "                      nn.ReLU(),\n",
    "                      nn.Linear(hidden_sizes[1], output_size),\n",
    "                      nn.Softmax(dim=1))\n",
    "print(model)\n",
    "\n",
    "# Forward pass through the network and display output\n",
    "images, labels = next(iter(trainloader))\n",
    "images.resize_(images.shape[0], 1, 784)\n",
    "ps = model.forward(images[0,:])\n",
    "helper.view_classify(images[0].view(1, 28, 28), ps)"
   ]
  },
  {
   "cell_type": "markdown",
   "metadata": {},
   "source": [
    "The operations are availble by passing in the appropriate index. For example, if you want to get first Linear operation and look at the weights, you'd use `model[0]`."
   ]
  },
  {
   "cell_type": "code",
   "execution_count": 18,
   "metadata": {},
   "outputs": [
    {
     "name": "stdout",
     "output_type": "stream",
     "text": [
      "Linear(in_features=784, out_features=128, bias=True)\n"
     ]
    },
    {
     "data": {
      "text/plain": [
       "Parameter containing:\n",
       "tensor([[ 0.0183, -0.0104, -0.0191,  ..., -0.0319,  0.0123,  0.0169],\n",
       "        [-0.0200, -0.0350,  0.0225,  ...,  0.0218,  0.0014,  0.0096],\n",
       "        [-0.0028, -0.0008,  0.0281,  ...,  0.0007,  0.0189,  0.0169],\n",
       "        ...,\n",
       "        [-0.0134, -0.0027, -0.0084,  ..., -0.0262, -0.0103,  0.0007],\n",
       "        [-0.0336, -0.0217, -0.0037,  ...,  0.0329,  0.0098,  0.0193],\n",
       "        [-0.0319, -0.0260, -0.0193,  ..., -0.0219, -0.0054,  0.0157]],\n",
       "       requires_grad=True)"
      ]
     },
     "execution_count": 18,
     "metadata": {},
     "output_type": "execute_result"
    }
   ],
   "source": [
    "print(model[0])\n",
    "model[0].weight"
   ]
  },
  {
   "cell_type": "markdown",
   "metadata": {},
   "source": [
    "You can also pass in an `OrderedDict` to name the individual layers and operations, instead of using incremental integers. Note that dictionary keys must be unique, so _each operation must have a different name_."
   ]
  },
  {
   "cell_type": "code",
   "execution_count": 19,
   "metadata": {},
   "outputs": [
    {
     "data": {
      "text/plain": [
       "Sequential(\n",
       "  (fc1): Linear(in_features=784, out_features=128, bias=True)\n",
       "  (relu1): ReLU()\n",
       "  (fc2): Linear(in_features=128, out_features=64, bias=True)\n",
       "  (relu2): ReLU()\n",
       "  (output): Linear(in_features=64, out_features=10, bias=True)\n",
       "  (softmax): Softmax(dim=1)\n",
       ")"
      ]
     },
     "execution_count": 19,
     "metadata": {},
     "output_type": "execute_result"
    }
   ],
   "source": [
    "from collections import OrderedDict\n",
    "model = nn.Sequential(OrderedDict([\n",
    "                      ('fc1', nn.Linear(input_size, hidden_sizes[0])),\n",
    "                      ('relu1', nn.ReLU()),\n",
    "                      ('fc2', nn.Linear(hidden_sizes[0], hidden_sizes[1])),\n",
    "                      ('relu2', nn.ReLU()),\n",
    "                      ('output', nn.Linear(hidden_sizes[1], output_size)),\n",
    "                      ('softmax', nn.Softmax(dim=1))]))\n",
    "model"
   ]
  },
  {
   "cell_type": "markdown",
   "metadata": {},
   "source": [
    "Now you can access layers either by integer or the name"
   ]
  },
  {
   "cell_type": "code",
   "execution_count": 20,
   "metadata": {},
   "outputs": [
    {
     "name": "stdout",
     "output_type": "stream",
     "text": [
      "Linear(in_features=784, out_features=128, bias=True)\n",
      "Linear(in_features=784, out_features=128, bias=True)\n"
     ]
    }
   ],
   "source": [
    "print(model[0])\n",
    "print(model.fc1)"
   ]
  },
  {
   "cell_type": "markdown",
   "metadata": {},
   "source": [
    "In the next notebook, we'll see how we can train a neural network to accuractly predict the numbers appearing in the MNIST images."
   ]
  },
  {
   "cell_type": "code",
   "execution_count": null,
   "metadata": {},
   "outputs": [],
   "source": []
  },
  {
   "cell_type": "code",
   "execution_count": null,
   "metadata": {},
   "outputs": [],
   "source": []
  }
 ],
 "metadata": {
  "kernelspec": {
   "display_name": "Python 3",
   "language": "python",
   "name": "python3"
  },
  "language_info": {
   "codemirror_mode": {
    "name": "ipython",
    "version": 3
   },
   "file_extension": ".py",
   "mimetype": "text/x-python",
   "name": "python",
   "nbconvert_exporter": "python",
   "pygments_lexer": "ipython3",
   "version": "3.7.4"
  }
 },
 "nbformat": 4,
 "nbformat_minor": 2
}
