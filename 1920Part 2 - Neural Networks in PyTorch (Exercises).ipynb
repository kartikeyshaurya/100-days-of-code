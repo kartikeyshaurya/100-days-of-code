{
 "cells": [
  {
   "cell_type": "markdown",
   "metadata": {},
   "source": [
    "# Neural networks with PyTorch\n",
    "\n",
    "Deep learning networks tend to be massive with dozens or hundreds of layers, that's where the term \"deep\" comes from. You can build one of these deep networks using only weight matrices as we did in the previous notebook, but in general it's very cumbersome and difficult to implement. PyTorch has a nice module `nn` that provides a nice way to efficiently build large neural networks."
   ]
  },
  {
   "cell_type": "code",
   "execution_count": 5,
   "metadata": {},
   "outputs": [],
   "source": [
    "%matplotlib inline\n",
    "%config InlineBackend.figure_format = 'retina'\n",
    "\n",
    "import numpy as np\n",
    "import torch\n",
    "\n",
    "import helper\n",
    "\n",
    "import matplotlib.pyplot as plt"
   ]
  },
  {
   "cell_type": "markdown",
   "metadata": {},
   "source": [
    "\n",
    "Now we're going to build a larger network that can solve a (formerly) difficult problem, identifying text in an image. Here we'll use the MNIST dataset which consists of greyscale handwritten digits. Each image is 28x28 pixels, you can see a sample below\n",
    "\n",
    "<img src='assets/mnist.png'>\n",
    "\n",
    "Our goal is to build a neural network that can take one of these images and predict the digit in the image.\n",
    "\n",
    "First up, we need to get our dataset. This is provided through the `torchvision` package. The code below will download the MNIST dataset, then create training and test datasets for us. Don't worry too much about the details here, you'll learn more about this later."
   ]
  },
  {
   "cell_type": "code",
   "execution_count": 6,
   "metadata": {},
   "outputs": [],
   "source": [
    "### Run this cell\n",
    "\n",
    "from torchvision import datasets, transforms\n",
    "\n",
    "# Define a transform to normalize the data\n",
    "transform = transforms.Compose([transforms.ToTensor(),\n",
    "                              transforms.Normalize((0.5,), (0.5,)),\n",
    "                              ])\n",
    "\n",
    "# Download and load the training data\n",
    "trainset = datasets.MNIST('~/.pytorch/MNIST_data/', download=True, train=True, transform=transform)\n",
    "trainloader = torch.utils.data.DataLoader(trainset, batch_size=64, shuffle=True)"
   ]
  },
  {
   "cell_type": "markdown",
   "metadata": {},
   "source": [
    "We have the training data loaded into `trainloader` and we make that an iterator with `iter(trainloader)`. Later, we'll use this to loop through the dataset for training, like\n",
    "\n",
    "```python\n",
    "for image, label in trainloader:\n",
    "    ## do things with images and labels\n",
    "```\n",
    "\n",
    "You'll notice I created the `trainloader` with a batch size of 64, and `shuffle=True`. The batch size is the number of images we get in one iteration from the data loader and pass through our network, often called a *batch*. And `shuffle=True` tells it to shuffle the dataset every time we start going through the data loader again. But here I'm just grabbing the first batch so we can check out the data. We can see below that `images` is just a tensor with size `(64, 1, 28, 28)`. So, 64 images per batch, 1 color channel, and 28x28 images."
   ]
  },
  {
   "cell_type": "code",
   "execution_count": 8,
   "metadata": {},
   "outputs": [
    {
     "name": "stdout",
     "output_type": "stream",
     "text": [
      "<class 'torch.Tensor'>\n",
      "torch.Size([64, 1, 28, 28])\n",
      "torch.Size([64])\n"
     ]
    }
   ],
   "source": [
    "dataiter = iter(trainloader)\n",
    "images, labels = dataiter.next()\n",
    "print(type(images))\n",
    "print(images.shape)\n",
    "print(labels.shape)"
   ]
  },
  {
   "cell_type": "markdown",
   "metadata": {},
   "source": [
    "This is what one of the images looks like. "
   ]
  },
  {
   "cell_type": "code",
   "execution_count": 9,
   "metadata": {},
   "outputs": [
    {
     "data": {
      "image/png": "[encoded data removed]",
      "text/plain": [
       "<Figure size 432x288 with 1 Axes>"
      ]
     },
     "metadata": {
      "image/png": {
       "height": 248,
       "width": 251
      },
      "needs_background": "light"
     },
     "output_type": "display_data"
    }
   ],
   "source": [
    "plt.imshow(images[1].numpy().squeeze(), cmap='Greys_r');"
   ]
  },
  {
   "cell_type": "markdown",
   "metadata": {},
   "source": [
    "First, let's try to build a simple network for this dataset using weight matrices and matrix multiplications. Then, we'll see how to do it using PyTorch's `nn` module which provides a much more convenient and powerful method for defining network architectures.\n",
    "\n",
    "The networks you've seen so far are called *fully-connected* or *dense* networks. Each unit in one layer is connected to each unit in the next layer. In fully-connected networks, the input to each layer must be a one-dimensional vector (which can be stacked into a 2D tensor as a batch of multiple examples). However, our images are 28x28 2D tensors, so we need to convert them into 1D vectors. Thinking about sizes, we need to convert the batch of images with shape `(64, 1, 28, 28)` to a have a shape of `(64, 784)`, 784 is 28 times 28. This is typically called *flattening*, we flattened the 2D images into 1D vectors.\n",
    "\n",
    "Previously you built a network with one output unit. Here we need 10 output units, one for each digit. We want our network to predict the digit shown in an image, so what we'll do is calculate probabilities that the image is of any one digit or class. This ends up being a discrete probability distribution over the classes (digits) that tells us the most likely class for the image. That means we need 10 output units for the 10 classes (digits). We'll see how to convert the network output into a probability distribution next.\n",
    "\n",
    "> **Exercise:** Flatten the batch of images `images`. Then build a multi-layer network with 784 input units, 256 hidden units, and 10 output units using random tensors for the weights and biases. For now, use a sigmoid activation for the hidden layer. Leave the output layer without an activation, we'll add one that gives us a probability distribution next."
   ]
  },
  {
   "cell_type": "code",
   "execution_count": 19,
   "metadata": {},
   "outputs": [
    {
     "data": {
      "text/plain": [
       "tensor([[-9.6469e+00,  1.9481e+01,  1.6988e+01, -5.1457e-04,  9.0627e+00,\n",
       "          1.0870e+01,  6.0808e+00,  1.6096e+01,  1.3430e+01, -1.0665e+01],\n",
       "        [ 8.5126e-01, -5.5822e+00,  4.6756e+00, -8.8920e+00, -4.5098e-01,\n",
       "         -1.1470e+00, -2.1634e+00,  1.0803e+01,  1.2800e+01, -1.2882e+01],\n",
       "        [ 3.8581e+00,  9.7544e+00,  1.0475e+01, -1.1448e+01, -1.1492e+01,\n",
       "          5.7298e+00, -3.5238e+00,  4.8329e+00,  4.7039e+00, -1.4900e+01],\n",
       "        [-9.3826e-01, -4.3731e+00,  2.6739e+00, -1.5363e+01, -5.6990e+00,\n",
       "         -5.4400e-01, -7.1085e+00,  1.1199e+01,  1.4935e+01, -2.0357e+01],\n",
       "        [ 2.6085e+00,  1.2632e+01,  1.3943e+00, -1.4742e+01, -1.4699e-01,\n",
       "         -8.5016e-01, -7.3735e+00, -8.9647e+00,  8.7756e+00, -2.0078e+01],\n",
       "        [-2.2078e+00,  4.4062e+00,  4.8652e+00, -1.5186e+01, -1.2354e+01,\n",
       "         -8.5371e-01,  2.5016e+00,  9.2717e+00,  1.5617e+01, -1.0774e+01],\n",
       "        [ 3.9629e+00, -2.4520e+00,  1.3397e+01, -2.1253e+00, -1.2243e+01,\n",
       "         -7.8985e+00,  1.3153e+00,  3.7412e+00,  1.7010e+01, -2.6095e+00],\n",
       "        [-4.2697e+00, -3.4965e+00,  1.3635e+01, -3.9530e+00,  2.2147e+00,\n",
       "         -3.2148e+00,  9.0841e-01,  3.7139e+00,  8.1355e+00, -2.3874e+00],\n",
       "        [-6.7901e-01, -1.5603e+00,  1.7192e+01,  2.1468e+00,  3.0273e+00,\n",
       "         -2.2640e+00,  1.1335e+01,  1.0442e+01,  1.6308e+01, -1.0041e+01],\n",
       "        [ 5.0857e+00,  5.4628e+00,  1.2769e+01, -4.8865e+00, -5.9104e+00,\n",
       "         -1.6432e-01,  7.7900e+00,  4.4582e+00,  1.2889e+01, -1.0427e+01],\n",
       "        [ 1.0150e+01,  7.1751e+00,  7.3368e+00, -9.6780e+00, -5.5424e+00,\n",
       "         -2.4372e+00,  2.0285e+00,  2.5396e+00,  1.7254e+01, -1.4354e+01],\n",
       "        [-1.2344e+00,  4.7498e+00,  1.2568e+01, -4.9170e+00,  2.2690e+00,\n",
       "         -3.4896e-01,  2.2700e+00,  3.5938e-01,  1.5771e+01, -6.6072e+00],\n",
       "        [ 5.8765e+00,  7.9840e+00,  3.8067e-01, -1.6177e+01, -5.6655e+00,\n",
       "          7.6750e+00,  6.8353e+00,  1.3790e+01,  1.8151e+01, -1.9016e+01],\n",
       "        [ 1.0230e+01,  7.5527e+00,  1.1951e+01, -8.8122e+00, -6.8029e+00,\n",
       "         -1.2734e+00,  6.2458e+00,  9.6535e+00,  8.0275e+00, -1.2873e+01],\n",
       "        [ 3.6724e+00,  7.3906e+00,  5.4995e+00, -8.8479e+00, -8.5043e+00,\n",
       "         -3.2018e+00,  7.8986e+00,  8.6209e+00,  2.3712e+00, -1.4931e+01],\n",
       "        [-2.8413e+00,  5.1901e+00,  5.8679e+00, -6.8313e+00,  4.5796e+00,\n",
       "         -3.1090e+00,  4.1413e+00,  7.7085e+00,  8.3772e+00, -8.7981e+00],\n",
       "        [ 2.0111e+00,  4.6875e+00,  1.5791e+01, -9.4761e+00, -1.0525e+01,\n",
       "          9.4710e+00,  8.0993e-01,  5.7971e+00,  1.5438e+01, -1.3923e+01],\n",
       "        [ 4.6617e+00, -6.3168e-02,  8.9573e+00, -1.1739e+01, -9.0541e+00,\n",
       "          2.0325e+00, -2.5020e+00,  6.9004e+00,  1.3325e+01, -1.6376e+01],\n",
       "        [-2.5297e+00, -2.4060e+00,  6.4109e+00, -6.2113e+00, -1.6533e+01,\n",
       "         -5.8941e+00,  7.1523e+00,  1.0230e+01,  1.1636e+01, -1.2172e+01],\n",
       "        [ 6.2985e+00,  8.7547e+00,  1.0236e+01, -6.8160e+00,  3.8724e+00,\n",
       "         -1.6209e+00,  2.2589e+00,  5.6941e+00,  1.2087e+01, -9.6831e+00],\n",
       "        [ 1.3488e+01, -4.3668e+00,  1.9737e+01, -2.4781e+00, -1.0975e+01,\n",
       "         -8.1856e+00, -4.3590e+00,  4.8592e+00,  7.7399e+00, -5.3444e-01],\n",
       "        [ 3.1129e+00,  8.0221e+00,  1.4224e+01,  3.9650e-01,  2.3968e-01,\n",
       "         -2.4813e+00,  7.7882e+00,  1.3120e+01,  1.4341e+01, -1.4076e+01],\n",
       "        [ 1.0165e+01,  1.3752e+00,  7.1688e+00, -8.2274e+00, -8.1181e+00,\n",
       "         -7.5532e+00, -6.1481e+00, -2.0742e-02,  7.8288e+00, -1.6873e+01],\n",
       "        [ 1.4475e+00,  7.2523e+00,  4.5284e+00, -1.3501e+01, -5.2829e+00,\n",
       "         -5.8090e+00,  2.8675e+00,  9.2739e+00,  1.9476e+01, -1.5760e+01],\n",
       "        [-7.8160e+00,  1.5515e+00,  7.6909e+00, -1.9379e+00, -1.1164e+01,\n",
       "          1.0388e+00,  4.9174e+00,  3.1905e+00,  1.1627e+01, -1.2628e+01],\n",
       "        [ 1.7621e+00,  8.9294e+00,  1.3820e+01, -6.7270e+00, -1.5683e+01,\n",
       "         -6.9927e+00, -1.1708e+00,  1.4946e+01,  1.6216e+01, -5.6635e+00],\n",
       "        [ 1.1072e+00,  7.6140e+00,  1.1251e+01, -7.8945e+00, -6.0855e+00,\n",
       "          9.1037e+00,  8.6822e+00,  9.8330e+00,  3.4018e+00, -1.4085e+01],\n",
       "        [ 8.7823e-01,  1.0055e+00,  1.0542e+01, -7.8984e+00,  1.5590e+00,\n",
       "         -4.9226e-02, -8.4944e+00,  6.6070e+00,  9.0091e+00, -2.1357e+01],\n",
       "        [ 2.2335e+00,  1.0275e+00,  1.4635e+01, -2.1849e+00, -1.1106e+01,\n",
       "         -2.9709e+00,  7.9340e+00,  1.1132e+01,  1.6808e+01, -6.8866e+00],\n",
       "        [ 1.1319e+01, -5.0549e+00,  1.3012e+01, -4.7936e+00, -6.5010e+00,\n",
       "         -7.7019e+00, -3.2152e+00,  1.8796e+00,  1.4089e+01, -4.1757e+00],\n",
       "        [ 1.0829e+01,  1.4221e+01,  1.6512e+01, -1.3700e+00, -2.1871e+00,\n",
       "         -8.1953e+00,  1.8651e+00,  4.8092e-02,  1.8398e+01, -1.0709e+00],\n",
       "        [-3.2568e-01,  5.5071e+00,  4.4759e+00, -1.4977e+01, -5.2225e+00,\n",
       "         -2.0506e+00,  3.2233e-02,  1.2987e+01,  1.7679e+01, -1.4716e+01],\n",
       "        [-2.8063e-01, -2.9340e+00,  1.3360e+01, -6.6588e+00, -1.0969e+01,\n",
       "         -9.7034e+00,  3.9014e-01,  5.2500e+00,  8.5262e+00, -1.1935e+01],\n",
       "        [ 6.0746e+00,  7.8684e+00,  1.1120e+01, -8.0843e+00, -3.9494e+00,\n",
       "         -9.6944e+00, -1.1822e+00,  6.3578e+00,  1.2934e+01, -2.6273e+00],\n",
       "        [ 8.4808e+00,  8.0753e+00,  1.2694e+01, -1.0255e+01, -3.5858e+00,\n",
       "         -4.1778e-01,  1.0123e+00,  7.0661e+00,  1.5981e+01, -9.8268e+00],\n",
       "        [-1.3400e+00,  3.9736e+00,  1.3980e+01, -7.3036e+00, -2.3965e-01,\n",
       "          2.7682e+00,  2.3797e+00,  8.5773e+00,  2.0985e+01, -1.6147e+01],\n",
       "        [-7.8590e+00,  4.0778e+00,  7.5276e+00, -4.7585e+00, -7.1323e+00,\n",
       "         -4.9247e+00, -7.2318e+00,  1.1522e+01,  2.2956e+01, -1.0362e+01],\n",
       "        [-8.8252e+00,  6.3565e+00,  7.2047e-01, -1.3676e+01, -2.1861e+00,\n",
       "          7.5344e-01,  5.0284e+00,  7.6582e+00,  1.1949e+01, -1.5269e+01],\n",
       "        [ 8.3737e+00,  7.7097e+00,  7.9112e+00, -3.4720e+00, -6.7310e+00,\n",
       "         -9.2650e+00,  4.3448e+00,  1.1159e+01,  1.4149e+01, -1.1047e+01],\n",
       "        [ 2.1130e+00,  5.1693e+00,  1.1831e+01, -4.9853e+00, -2.8803e+00,\n",
       "          7.2166e+00, -5.1205e-01,  1.3688e+01,  1.6722e+01, -1.1297e+01],\n",
       "        [-2.0492e+00,  2.9448e-01,  1.2886e+01,  4.2538e+00, -8.7715e+00,\n",
       "         -3.6813e+00,  5.1712e+00,  7.0922e+00,  1.0660e+01, -9.7841e+00],\n",
       "        [ 7.7678e+00, -1.2436e+00,  1.1860e+01, -2.1277e+00, -7.4094e+00,\n",
       "          6.8695e+00, -8.3125e+00,  7.3264e+00,  1.4240e+01, -1.3699e+01],\n",
       "        [ 5.7222e+00,  1.5937e+00,  9.4242e+00, -1.4557e+01, -1.0371e+01,\n",
       "         -1.9521e+00, -9.1527e-01,  5.1352e+00,  8.5631e+00, -6.8913e+00],\n",
       "        [ 2.6588e+00,  6.9602e+00,  7.3781e+00, -4.1822e+00, -5.1811e+00,\n",
       "          7.9306e-01,  3.4524e+00,  1.0332e+01,  1.2353e+01, -6.0315e+00],\n",
       "        [ 7.5816e+00,  1.0263e+01,  1.7229e+01, -6.3330e-01, -4.8902e+00,\n",
       "         -4.9959e-01, -5.3086e+00,  8.5506e+00,  1.9470e+01, -1.2096e+01],\n",
       "        [ 3.1035e+00,  6.1358e+00,  1.1076e+01, -5.3465e+00,  4.9135e+00,\n",
       "         -3.4933e-02, -1.8193e+00,  3.7009e+00,  1.2026e+01, -1.7370e+01],\n",
       "        [ 2.4503e+00,  5.9699e+00,  9.9850e+00, -9.4985e+00, -4.0156e+00,\n",
       "          1.5117e+00, -1.4169e+00,  3.4587e+00,  1.2649e+01, -1.4316e+01],\n",
       "        [ 7.0429e-01,  7.4587e+00,  9.7269e+00, -1.3131e+01, -4.9571e+00,\n",
       "         -5.8031e-01,  1.5002e+00,  3.1374e+00,  1.3433e+01, -1.2666e+01],\n",
       "        [ 3.2423e+00,  7.1727e+00,  1.2603e+01, -6.2011e+00,  1.7195e+00,\n",
       "         -2.1734e+00,  1.4514e+00,  5.8903e+00,  1.4872e+01, -1.1143e+01],\n",
       "        [ 1.0018e+00,  5.4623e+00,  1.0290e+01, -8.8070e+00, -9.7015e-01,\n",
       "          3.7534e+00,  8.0852e-01,  7.2451e+00,  1.4733e+01, -7.0451e+00],\n",
       "        [ 1.4720e+01,  7.0669e+00,  1.5654e+01, -6.3185e+00, -1.8850e+01,\n",
       "          2.5315e-01, -2.9564e+00,  7.9251e+00,  1.3960e+01, -8.5727e+00],\n",
       "        [-2.1490e+00,  1.2940e+00,  1.1533e+01, -3.3132e+00, -2.7208e+00,\n",
       "         -2.4635e+00,  6.2253e+00,  1.0709e+01,  1.7089e+01, -4.4745e+00],\n",
       "        [ 2.1059e+00,  9.5439e+00,  7.3018e+00, -1.3033e+01, -6.7114e+00,\n",
       "         -1.8670e+00,  4.8297e-01,  1.0779e+01,  1.1025e+01, -1.5927e+01],\n",
       "        [ 2.7196e+00,  5.1997e+00,  1.6538e+01, -9.8022e+00,  1.5907e-02,\n",
       "          6.4250e+00,  5.1437e+00,  1.3999e+01,  9.9263e+00, -1.5760e+01],\n",
       "        [-1.3426e+00,  6.5731e+00,  1.7096e+01, -1.3042e+01, -6.9743e+00,\n",
       "         -5.2427e+00, -3.2643e+00,  6.5917e+00,  7.8948e+00, -7.1949e+00],\n",
       "        [ 5.4953e+00,  1.2395e-01,  1.6436e+01, -1.0240e+01, -3.8317e+00,\n",
       "         -9.2757e-01,  4.3671e+00,  1.1674e+01,  1.7980e+01, -9.1610e+00],\n",
       "        [ 1.7736e+00,  9.1247e+00,  1.3542e+01, -5.8034e+00, -6.8543e-01,\n",
       "          1.1625e+00, -8.2798e-01, -3.6109e-01,  1.3674e+01, -1.0629e+01],\n",
       "        [ 4.3974e+00,  5.3657e+00,  5.7654e+00, -1.4518e+01, -4.8220e+00,\n",
       "          3.3371e+00, -2.2800e+00,  7.5783e+00,  6.4811e+00, -1.2366e+01],\n",
       "        [ 5.7681e+00, -1.5320e+00,  1.0547e+01, -4.2680e+00,  8.9499e-01,\n",
       "         -2.0022e+00, -5.9351e+00, -2.9882e+00,  9.8168e+00, -1.7009e+01],\n",
       "        [ 7.9627e+00,  6.9163e+00,  1.4729e+01,  1.5786e-01, -8.8035e+00,\n",
       "          5.8879e-01, -2.5276e+00,  5.7640e+00,  8.6510e+00, -1.3846e+01],\n",
       "        [-3.5188e-01,  5.0712e+00,  1.2505e+01, -7.2991e+00, -3.8495e+00,\n",
       "          9.8048e-01,  4.0414e+00,  4.5772e+00,  1.6668e+01, -1.1093e+01],\n",
       "        [-3.3395e+00, -1.0283e+01,  4.6119e+00, -9.6732e+00, -1.3252e+01,\n",
       "          8.2971e-01,  1.0381e+00,  1.0900e+01,  1.0200e+01, -6.3086e+00],\n",
       "        [-1.1917e+01,  2.0064e+00,  1.4833e+00, -2.4606e+00,  1.1686e+00,\n",
       "         -2.0195e+00,  7.4902e+00, -7.3694e-01,  1.4325e+01, -1.1194e+01],\n",
       "        [ 4.6139e+00,  4.6520e+00,  5.7607e+00, -1.9133e+00, -3.5076e+00,\n",
       "         -3.8509e+00, -1.6390e+00,  2.3558e+00,  9.6371e+00, -1.8874e+01]])"
      ]
     },
     "execution_count": 19,
     "metadata": {},
     "output_type": "execute_result"
    }
   ],
   "source": [
    "def sigmoid(x):\n",
    "    return 1/(1+ torch.exp(-x))\n",
    "weight_1 = torch.randn(784,256)\n",
    "bias_1 = torch.randn(256)\n",
    "\n",
    "inputs = images.view(images.shape[0], -1)\n",
    "\n",
    "weight_2 =torch.randn(256,10)\n",
    "bias_2 =torch.randn(10)\n",
    "\n",
    "\n",
    "z1 = sigmoid(torch.mm(inputs, weight_1)+ bias_1)\n",
    "\n",
    "z2 = (torch.mm(z1,weight_2)+bias_2 )\n",
    "z2\n"
   ]
  },
  {
   "cell_type": "markdown",
   "metadata": {},
   "source": [
    "Now we have 10 outputs for our network. We want to pass in an image to our network and get out a probability distribution over the classes that tells us the likely class(es) the image belongs to. Something that looks like this:\n",
    "<img src='assets/image_distribution.png' width=500px>\n",
    "\n",
    "Here we see that the probability for each class is roughly the same. This is representing an untrained network, it hasn't seen any data yet so it just returns a uniform distribution with equal probabilities for each class.\n",
    "\n",
    "To calculate this probability distribution, we often use the [**softmax** function](https://en.wikipedia.org/wiki/Softmax_function). Mathematically this looks like\n",
    "\n",
    "$$\n",
    "\\Large \\sigma(x_i) = \\cfrac{e^{x_i}}{\\sum_k^K{e^{x_k}}}\n",
    "$$\n",
    "\n",
    "What this does is squish each input $x_i$ between 0 and 1 and normalizes the values to give you a proper probability distribution where the probabilites sum up to one.\n",
    "\n",
    "> **Exercise:** Implement a function `softmax` that performs the softmax calculation and returns probability distributions for each example in the batch. Note that you'll need to pay attention to the shapes when doing this. If you have a tensor `a` with shape `(64, 10)` and a tensor `b` with shape `(64,)`, doing `a/b` will give you an error because PyTorch will try to do the division across the columns (called broadcasting) but you'll get a size mismatch. The way to think about this is for each of the 64 examples, you only want to divide by one value, the sum in the denominator. So you need `b` to have a shape of `(64, 1)`. This way PyTorch will divide the 10 values in each row of `a` by the one value in each row of `b`. Pay attention to how you take the sum as well. You'll need to define the `dim` keyword in `torch.sum`. Setting `dim=0` takes the sum across the rows while `dim=1` takes the sum across the columns."
   ]
  },
  {
   "cell_type": "code",
   "execution_count": null,
   "metadata": {
    "collapsed": true
   },
   "outputs": [],
   "source": [
    "def softmax(x):\n",
    "    `\n",
    "\n",
    "# Here, out should be the output of the network in the previous excercise with shape (64,10)\n",
    "probabilities = softmax(out)\n",
    "\n",
    "# Does it have the right shape? Should be (64, 10)\n",
    "print(probabilities.shape)\n",
    "# Does it sum to 1?\n",
    "print(probabilities.sum(dim=1))"
   ]
  },
  {
   "cell_type": "markdown",
   "metadata": {},
   "source": [
    "## Building networks with PyTorch\n",
    "\n",
    "PyTorch provides a module `nn` that makes building networks much simpler. Here I'll show you how to build the same one as above with 784 inputs, 256 hidden units, 10 output units and a softmax output."
   ]
  },
  {
   "cell_type": "code",
   "execution_count": null,
   "metadata": {
    "collapsed": true
   },
   "outputs": [],
   "source": [
    "from torch import nn"
   ]
  },
  {
   "cell_type": "code",
   "execution_count": null,
   "metadata": {
    "collapsed": true
   },
   "outputs": [],
   "source": [
    "class Network(nn.Module):\n",
    "    def __init__(self):\n",
    "        super().__init__()\n",
    "        \n",
    "        # Inputs to hidden layer linear transformation\n",
    "        self.hidden = nn.Linear(784, 256)\n",
    "        # Output layer, 10 units - one for each digit\n",
    "        self.output = nn.Linear(256, 10)\n",
    "        \n",
    "        # Define sigmoid activation and softmax output \n",
    "        self.sigmoid = nn.Sigmoid()\n",
    "        self.softmax = nn.Softmax(dim=1)\n",
    "        \n",
    "    def forward(self, x):\n",
    "        # Pass the input tensor through each of our operations\n",
    "        x = self.hidden(x)\n",
    "        x = self.sigmoid(x)\n",
    "        x = self.output(x)\n",
    "        x = self.softmax(x)\n",
    "        \n",
    "        return x"
   ]
  },
  {
   "cell_type": "markdown",
   "metadata": {},
   "source": [
    "Let's go through this bit by bit.\n",
    "\n",
    "```python\n",
    "class Network(nn.Module):\n",
    "```\n",
    "\n",
    "Here we're inheriting from `nn.Module`. Combined with `super().__init__()` this creates a class that tracks the architecture and provides a lot of useful methods and attributes. It is mandatory to inherit from `nn.Module` when you're creating a class for your network. The name of the class itself can be anything.\n",
    "\n",
    "```python\n",
    "self.hidden = nn.Linear(784, 256)\n",
    "```\n",
    "\n",
    "This line creates a module for a linear transformation, $x\\mathbf{W} + b$, with 784 inputs and 256 outputs and assigns it to `self.hidden`. The module automatically creates the weight and bias tensors which we'll use in the `forward` method. You can access the weight and bias tensors once the network (`net`) is created with `net.hidden.weight` and `net.hidden.bias`.\n",
    "\n",
    "```python\n",
    "self.output = nn.Linear(256, 10)\n",
    "```\n",
    "\n",
    "Similarly, this creates another linear transformation with 256 inputs and 10 outputs.\n",
    "\n",
    "```python\n",
    "self.sigmoid = nn.Sigmoid()\n",
    "self.softmax = nn.Softmax(dim=1)\n",
    "```\n",
    "\n",
    "Here I defined operations for the sigmoid activation and softmax output. Setting `dim=1` in `nn.Softmax(dim=1)` calculates softmax across the columns.\n",
    "\n",
    "```python\n",
    "def forward(self, x):\n",
    "```\n",
    "\n",
    "PyTorch networks created with `nn.Module` must have a `forward` method defined. It takes in a tensor `x` and passes it through the operations you defined in the `__init__` method.\n",
    "\n",
    "```python\n",
    "x = self.hidden(x)\n",
    "x = self.sigmoid(x)\n",
    "x = self.output(x)\n",
    "x = self.softmax(x)\n",
    "```\n",
    "\n",
    "Here the input tensor `x` is passed through each operation and reassigned to `x`. We can see that the input tensor goes through the hidden layer, then a sigmoid function, then the output layer, and finally the softmax function. It doesn't matter what you name the variables here, as long as the inputs and outputs of the operations match the network architecture you want to build. The order in which you define things in the `__init__` method doesn't matter, but you'll need to sequence the operations correctly in the `forward` method.\n",
    "\n",
    "Now we can create a `Network` object."
   ]
  },
  {
   "cell_type": "code",
   "execution_count": null,
   "metadata": {
    "collapsed": true
   },
   "outputs": [],
   "source": [
    "# Create the network and look at it's text representation\n",
    "model = Network()\n",
    "model"
   ]
  },
  {
   "cell_type": "markdown",
   "metadata": {},
   "source": [
    "You can define the network somewhat more concisely and clearly using the `torch.nn.functional` module. This is the most common way you'll see networks defined as many operations are simple element-wise functions. We normally import this module as `F`, `import torch.nn.functional as F`."
   ]
  },
  {
   "cell_type": "code",
   "execution_count": null,
   "metadata": {
    "collapsed": true
   },
   "outputs": [],
   "source": [
    "import torch.nn.functional as F\n",
    "\n",
    "class Network(nn.Module):\n",
    "    def __init__(self):\n",
    "        super().__init__()\n",
    "        # Inputs to hidden layer linear transformation\n",
    "        self.hidden = nn.Linear(784, 256)\n",
    "        # Output layer, 10 units - one for each digit\n",
    "        self.output = nn.Linear(256, 10)\n",
    "        \n",
    "    def forward(self, x):\n",
    "        # Hidden layer with sigmoid activation\n",
    "        x = F.sigmoid(self.hidden(x))\n",
    "        # Output layer with softmax activation\n",
    "        x = F.softmax(self.output(x), dim=1)\n",
    "        \n",
    "        return x"
   ]
  },
  {
   "cell_type": "markdown",
   "metadata": {},
   "source": [
    "### Activation functions\n",
    "\n",
    "So far we've only been looking at the sigmoid activation function, but in general any function can be used as an activation function. The only requirement is that for a network to approximate a non-linear function, the activation functions must be non-linear. Here are a few more examples of common activation functions: Tanh (hyperbolic tangent), and ReLU (rectified linear unit).\n",
    "\n",
    "<img src=\"assets/activation.png\" width=700px>\n",
    "\n",
    "In practice, the ReLU function is used almost exclusively as the activation function for hidden layers."
   ]
  },
  {
   "cell_type": "markdown",
   "metadata": {},
   "source": [
    "### Your Turn to Build a Network\n",
    "\n",
    "<img src=\"assets/mlp_mnist.png\" width=600px>\n",
    "\n",
    "> **Exercise:** Create a network with 784 input units, a hidden layer with 128 units and a ReLU activation, then a hidden layer with 64 units and a ReLU activation, and finally an output layer with a softmax activation as shown above. You can use a ReLU activation with the `nn.ReLU` module or `F.relu` function.\n",
    "\n",
    "It's good practice to name your layers by their type of network, for instance 'fc' to represent a fully-connected layer. As you code your solution, use `fc1`, `fc2`, and `fc3` as your layer names."
   ]
  },
  {
   "cell_type": "code",
   "execution_count": null,
   "metadata": {
    "collapsed": true,
    "scrolled": true
   },
   "outputs": [],
   "source": [
    "## Your solution here\n"
   ]
  },
  {
   "cell_type": "markdown",
   "metadata": {},
   "source": [
    "### Initializing weights and biases\n",
    "\n",
    "The weights and such are automatically initialized for you, but it's possible to customize how they are initialized. The weights and biases are tensors attached to the layer you defined, you can get them with `model.fc1.weight` for instance."
   ]
  },
  {
   "cell_type": "code",
   "execution_count": null,
   "metadata": {
    "collapsed": true
   },
   "outputs": [],
   "source": [
    "print(model.fc1.weight)\n",
    "print(model.fc1.bias)"
   ]
  },
  {
   "cell_type": "markdown",
   "metadata": {},
   "source": [
    "For custom initialization, we want to modify these tensors in place. These are actually autograd *Variables*, so we need to get back the actual tensors with `model.fc1.weight.data`. Once we have the tensors, we can fill them with zeros (for biases) or random normal values."
   ]
  },
  {
   "cell_type": "code",
   "execution_count": null,
   "metadata": {
    "collapsed": true
   },
   "outputs": [],
   "source": [
    "# Set biases to all zeros\n",
    "model.fc1.bias.data.fill_(0)"
   ]
  },
  {
   "cell_type": "code",
   "execution_count": null,
   "metadata": {
    "collapsed": true
   },
   "outputs": [],
   "source": [
    "# sample from random normal with standard dev = 0.01\n",
    "model.fc1.weight.data.normal_(std=0.01)"
   ]
  },
  {
   "cell_type": "markdown",
   "metadata": {},
   "source": [
    "### Forward pass\n",
    "\n",
    "Now that we have a network, let's see what happens when we pass in an image."
   ]
  },
  {
   "cell_type": "code",
   "execution_count": null,
   "metadata": {
    "collapsed": true
   },
   "outputs": [],
   "source": [
    "# Grab some data \n",
    "dataiter = iter(trainloader)\n",
    "images, labels = dataiter.next()\n",
    "\n",
    "# Resize images into a 1D vector, new shape is (batch size, color channels, image pixels) \n",
    "images.resize_(64, 1, 784)\n",
    "# or images.resize_(images.shape[0], 1, 784) to automatically get batch size\n",
    "\n",
    "# Forward pass through the network\n",
    "img_idx = 0\n",
    "ps = model.forward(images[img_idx,:])\n",
    "\n",
    "img = images[img_idx]\n",
    "helper.view_classify(img.view(1, 28, 28), ps)"
   ]
  },
  {
   "cell_type": "markdown",
   "metadata": {},
   "source": [
    "As you can see above, our network has basically no idea what this digit is. It's because we haven't trained it yet, all the weights are random!\n",
    "\n",
    "### Using `nn.Sequential`\n",
    "\n",
    "PyTorch provides a convenient way to build networks like this where a tensor is passed sequentially through operations, `nn.Sequential` ([documentation](https://pytorch.org/docs/master/nn.html#torch.nn.Sequential)). Using this to build the equivalent network:"
   ]
  },
  {
   "cell_type": "code",
   "execution_count": null,
   "metadata": {
    "collapsed": true
   },
   "outputs": [],
   "source": [
    "# Hyperparameters for our network\n",
    "input_size = 784\n",
    "hidden_sizes = [128, 64]\n",
    "output_size = 10\n",
    "\n",
    "# Build a feed-forward network\n",
    "model = nn.Sequential(nn.Linear(input_size, hidden_sizes[0]),\n",
    "                      nn.ReLU(),\n",
    "                      nn.Linear(hidden_sizes[0], hidden_sizes[1]),\n",
    "                      nn.ReLU(),\n",
    "                      nn.Linear(hidden_sizes[1], output_size),\n",
    "                      nn.Softmax(dim=1))\n",
    "print(model)\n",
    "\n",
    "# Forward pass through the network and display output\n",
    "images, labels = next(iter(trainloader))\n",
    "images.resize_(images.shape[0], 1, 784)\n",
    "ps = model.forward(images[0,:])\n",
    "helper.view_classify(images[0].view(1, 28, 28), ps)"
   ]
  },
  {
   "cell_type": "markdown",
   "metadata": {},
   "source": [
    "Here our model is the same as before: 784 input units, a hidden layer with 128 units, ReLU activation, 64 unit hidden layer, another ReLU, then the output layer with 10 units, and the softmax output.\n",
    "\n",
    "The operations are available by passing in the appropriate index. For example, if you want to get first Linear operation and look at the weights, you'd use `model[0]`."
   ]
  },
  {
   "cell_type": "code",
   "execution_count": null,
   "metadata": {
    "collapsed": true
   },
   "outputs": [],
   "source": [
    "print(model[0])\n",
    "model[0].weight"
   ]
  },
  {
   "cell_type": "markdown",
   "metadata": {},
   "source": [
    "You can also pass in an `OrderedDict` to name the individual layers and operations, instead of using incremental integers. Note that dictionary keys must be unique, so _each operation must have a different name_."
   ]
  },
  {
   "cell_type": "code",
   "execution_count": null,
   "metadata": {
    "collapsed": true
   },
   "outputs": [],
   "source": [
    "from collections import OrderedDict\n",
    "model = nn.Sequential(OrderedDict([\n",
    "                      ('fc1', nn.Linear(input_size, hidden_sizes[0])),\n",
    "                      ('relu1', nn.ReLU()),\n",
    "                      ('fc2', nn.Linear(hidden_sizes[0], hidden_sizes[1])),\n",
    "                      ('relu2', nn.ReLU()),\n",
    "                      ('output', nn.Linear(hidden_sizes[1], output_size)),\n",
    "                      ('softmax', nn.Softmax(dim=1))]))\n",
    "model"
   ]
  },
  {
   "cell_type": "markdown",
   "metadata": {},
   "source": [
    "Now you can access layers either by integer or the name"
   ]
  },
  {
   "cell_type": "code",
   "execution_count": null,
   "metadata": {
    "collapsed": true
   },
   "outputs": [],
   "source": [
    "print(model[0])\n",
    "print(model.fc1)"
   ]
  },
  {
   "cell_type": "markdown",
   "metadata": {},
   "source": [
    "In the next notebook, we'll see how we can train a neural network to accuractly predict the numbers appearing in the MNIST images."
   ]
  }
 ],
 "metadata": {
  "kernelspec": {
   "display_name": "Python 3",
   "language": "python",
   "name": "python3"
  },
  "language_info": {
   "codemirror_mode": {
    "name": "ipython",
    "version": 3
   },
   "file_extension": ".py",
   "mimetype": "text/x-python",
   "name": "python",
   "nbconvert_exporter": "python",
   "pygments_lexer": "ipython3",
   "version": "3.7.4"
  }
 },
 "nbformat": 4,
 "nbformat_minor": 2
}
